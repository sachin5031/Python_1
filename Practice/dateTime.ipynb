{
 "cells": [
  {
   "cell_type": "markdown",
   "id": "a9339651",
   "metadata": {},
   "source": [
    "# Date Time\n",
    "The datetime module in Python provides classes for manipulating dates and times. It allows you to work with dates (year, month, day), times (hour, minute, second, microsecond), and combinations of both."
   ]
  },
  {
   "cell_type": "code",
   "execution_count": 1,
   "id": "acadb105",
   "metadata": {},
   "outputs": [],
   "source": [
    "from datetime import datetime, timedelta "
   ]
  },
  {
   "cell_type": "code",
   "execution_count": 3,
   "id": "456a4138",
   "metadata": {},
   "outputs": [
    {
     "name": "stdout",
     "output_type": "stream",
     "text": [
      "2025-08-09 09:00:10.698777\n"
     ]
    }
   ],
   "source": [
    "today = datetime.now()\n",
    "print(today)"
   ]
  },
  {
   "cell_type": "code",
   "execution_count": 8,
   "id": "d9558fe9",
   "metadata": {},
   "outputs": [
    {
     "name": "stdout",
     "output_type": "stream",
     "text": [
      "8\n",
      "9\n",
      "2025\n",
      "9\n",
      "0\n",
      "10\n"
     ]
    }
   ],
   "source": [
    "print(today.month)\n",
    "print(today.day)\n",
    "print(today.year)\n",
    "print(today.hour)\n",
    "print(today.minute)\n",
    "print(today.second)"
   ]
  },
  {
   "cell_type": "code",
   "execution_count": 9,
   "id": "414494be",
   "metadata": {},
   "outputs": [
    {
     "name": "stdout",
     "output_type": "stream",
     "text": [
      "2025-08-10 09:00:10.698777\n"
     ]
    }
   ],
   "source": [
    "one_day = timedelta(days=1)\n",
    "tomorrow = today + one_day\n",
    "print(tomorrow)"
   ]
  },
  {
   "cell_type": "code",
   "execution_count": 10,
   "id": "92ed8a11",
   "metadata": {},
   "outputs": [
    {
     "name": "stdout",
     "output_type": "stream",
     "text": [
      "2025-08-08 09:00:10.698777\n"
     ]
    }
   ],
   "source": [
    "one_day = timedelta(days=1)\n",
    "yesterday = today - one_day\n",
    "print(yesterday)"
   ]
  },
  {
   "cell_type": "code",
   "execution_count": 11,
   "id": "e5354501",
   "metadata": {},
   "outputs": [
    {
     "name": "stdout",
     "output_type": "stream",
     "text": [
      "2025-08-16 09:00:10.698777\n"
     ]
    }
   ],
   "source": [
    "week_later = today + timedelta(weeks=1)\n",
    "print(week_later)"
   ]
  },
  {
   "cell_type": "code",
   "execution_count": 12,
   "id": "25c3287e",
   "metadata": {},
   "outputs": [
    {
     "name": "stdout",
     "output_type": "stream",
     "text": [
      "2025-08-02 09:00:10.698777\n"
     ]
    }
   ],
   "source": [
    "week_previous = today - timedelta(weeks=1)\n",
    "print(week_previous)"
   ]
  },
  {
   "cell_type": "code",
   "execution_count": 16,
   "id": "5463e06f",
   "metadata": {},
   "outputs": [
    {
     "name": "stdout",
     "output_type": "stream",
     "text": [
      "Your birthday is: 2002-02-28 00:00:00\n"
     ]
    }
   ],
   "source": [
    "b = input('Enter your Birthday (DD MM YYYY): ')\n",
    "birthday = datetime.strptime(b, '%d %m %Y')\n",
    "print('Your birthday is:', birthday)"
   ]
  }
 ],
 "metadata": {
  "kernelspec": {
   "display_name": "Python 3",
   "language": "python",
   "name": "python3"
  },
  "language_info": {
   "codemirror_mode": {
    "name": "ipython",
    "version": 3
   },
   "file_extension": ".py",
   "mimetype": "text/x-python",
   "name": "python",
   "nbconvert_exporter": "python",
   "pygments_lexer": "ipython3",
   "version": "3.13.2"
  }
 },
 "nbformat": 4,
 "nbformat_minor": 5
}
