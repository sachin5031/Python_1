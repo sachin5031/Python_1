{
 "cells": [
  {
   "cell_type": "code",
   "execution_count": 5,
   "id": "1e5527ae",
   "metadata": {},
   "outputs": [
    {
     "name": "stdout",
     "output_type": "stream",
     "text": [
      "RAKLUDNET NIHCAS\n"
     ]
    }
   ],
   "source": [
    "s = \"Sachin Tendulkar\"\n",
    "\n",
    "t = lambda x: x.upper()[::-1]\n",
    "print(t(s))"
   ]
  },
  {
   "cell_type": "code",
   "execution_count": 6,
   "id": "5793fc79",
   "metadata": {},
   "outputs": [
    {
     "name": "stdout",
     "output_type": "stream",
     "text": [
      "[5, 4, 3, 2, 1]\n"
     ]
    }
   ],
   "source": [
    "t = lambda x: x[::-1]\n",
    "print(t([1, 2, 3, 4, 5]))"
   ]
  },
  {
   "cell_type": "code",
   "execution_count": null,
   "id": "34a6200d",
   "metadata": {},
   "outputs": [
    {
     "name": "stdout",
     "output_type": "stream",
     "text": [
      "25\n"
     ]
    }
   ],
   "source": [
    "s = lambda x: x**2\n",
    "print(s(5))"
   ]
  },
  {
   "cell_type": "code",
   "execution_count": 8,
   "id": "f5685769",
   "metadata": {},
   "outputs": [
    {
     "name": "stdout",
     "output_type": "stream",
     "text": [
      "25 125\n"
     ]
    }
   ],
   "source": [
    "def power(n):\n",
    "   return lambda x: x**n\n",
    "\n",
    "square = power(2)\n",
    "cube = power(3)\n",
    "\n",
    "print(square(5), cube(5))  "
   ]
  },
  {
   "cell_type": "code",
   "execution_count": 15,
   "id": "02e6835d",
   "metadata": {},
   "outputs": [
    {
     "name": "stdout",
     "output_type": "stream",
     "text": [
      "[20, 30, 40, 50, 60]\n"
     ]
    }
   ],
   "source": [
    "col1= [10, 15, 20, 25, 30]\n",
    "\n",
    "# col2 = list(map(float, col1))\n",
    "col2 = list(map(lambda x: x*2, col1))\n",
    "\n",
    "print(col2)"
   ]
  },
  {
   "cell_type": "code",
   "execution_count": 21,
   "id": "7912c417",
   "metadata": {},
   "outputs": [
    {
     "name": "stdout",
     "output_type": "stream",
     "text": [
      "[25, 40, 45, 65, 70, 75, 80, 85, 90, 95]\n"
     ]
    }
   ],
   "source": [
    "age = [ 25, 13, 15, 40, 45, 5, 10, 16, 65, 70, 75, 80, 85, 90, 95]\n",
    "\n",
    "# def adult(x):\n",
    "#     return x >= 18\n",
    "\n",
    "# adults = list(filter(adult, age))\n",
    "# print(adults)\n",
    "\n",
    "adults = list(filter(lambda x: x >= 18, age))\n",
    "print(adults)"
   ]
  },
  {
   "cell_type": "code",
   "execution_count": null,
   "id": "12f1eaa6",
   "metadata": {},
   "outputs": [
    {
     "name": "stdout",
     "output_type": "stream",
     "text": [
      "2\n"
     ]
    }
   ],
   "source": [
    "s = \"Sachin Tendulkar\"\n",
    "t = filter(lambda x: \"a\" in x, s)\n",
    "print(list(t))"
   ]
  },
  {
   "cell_type": "code",
   "execution_count": 39,
   "id": "64bccbf7",
   "metadata": {},
   "outputs": [
    {
     "name": "stdout",
     "output_type": "stream",
     "text": [
      "[[0, 1, 2, 3], [0, 1, 2, 3], [0, 1, 2, 3], [0, 1, 2, 3]]\n",
      "2 3\n"
     ]
    }
   ],
   "source": [
    "matrix = [] # Initialize an empty list to hold the matrix\n",
    "for x in range(4):\n",
    "    matrix.append([])\n",
    "    for y in range(4):\n",
    "        matrix[x].append(y)\n",
    "print(matrix)\n",
    "print(matrix[0][2], matrix[1][3] ) "
   ]
  },
  {
   "cell_type": "code",
   "execution_count": 8,
   "id": "bd55019a",
   "metadata": {},
   "outputs": [
    {
     "name": "stdout",
     "output_type": "stream",
     "text": [
      "[[0, 1, 2, 3], [0, 1, 2, 3], [0, 1, 2, 3], [0, 1, 2, 3]]\n"
     ]
    }
   ],
   "source": [
    "matrix = [] # Initialize an empty list to hold the matrix\n",
    "for x in range(4):\n",
    "    matrix.append([])\n",
    "    # print(matrix)\n",
    "    for y in range(4):\n",
    "        matrix[x].append(y)\n",
    "        # print(matrix[x])\n",
    "print(matrix)"
   ]
  },
  {
   "cell_type": "code",
   "execution_count": 41,
   "id": "aa6e2262",
   "metadata": {},
   "outputs": [
    {
     "name": "stdout",
     "output_type": "stream",
     "text": [
      "[[0, 1, 2, 3], [0, 1, 2, 3], [0, 1, 2, 3], [0, 1, 2, 3]]\n"
     ]
    }
   ],
   "source": [
    "matrix = [[y for y in range(4)] for x in range(4)]\n",
    "print(matrix)"
   ]
  },
  {
   "cell_type": "code",
   "execution_count": 43,
   "id": "ac078883",
   "metadata": {},
   "outputs": [
    {
     "name": "stdout",
     "output_type": "stream",
     "text": [
      "['apple', 'banana', 'date', 'papaya']\n"
     ]
    }
   ],
   "source": [
    "fruits = [\"apple\", \"banana\", \"cherry\", \"date\", \"elderberry\",\"papaya\"]\n",
    "a = [x for x in fruits if \"a\" in x]\n",
    "print(a)"
   ]
  },
  {
   "cell_type": "code",
   "execution_count": 46,
   "id": "e2ceec65",
   "metadata": {},
   "outputs": [
    {
     "name": "stdout",
     "output_type": "stream",
     "text": [
      "['apple', 'orange', 'cherry', 'date', 'elderberry', 'papaya']\n"
     ]
    }
   ],
   "source": [
    "fruits = [\"apple\", \"banana\", \"cherry\", \"date\", \"elderberry\",\"papaya\"]\n",
    "x = [a if a != \"banana\" else \"orange\" for a in fruits]\n",
    "print(x)"
   ]
  },
  {
   "cell_type": "code",
   "execution_count": 5,
   "id": "7a4bd5ac",
   "metadata": {},
   "outputs": [
    {
     "name": "stdout",
     "output_type": "stream",
     "text": [
      "{'a': 1, 'b': 2, 'c': 3}\n"
     ]
    }
   ],
   "source": [
    "l1=[('a',1),('b',2),('c',3)]\n",
    "d1=dict(l1)\n",
    "print(d1)"
   ]
  },
  {
   "cell_type": "code",
   "execution_count": 2,
   "id": "51843906",
   "metadata": {},
   "outputs": [
    {
     "name": "stdout",
     "output_type": "stream",
     "text": [
      "[('a', 1), ('b', 2), ('c', 3)]\n",
      "{'a': 1, 'b': 2, 'c': 3}\n"
     ]
    }
   ],
   "source": [
    "key=['a','b','c']\n",
    "value=[1,2,3]\n",
    "\n",
    "d2=list(zip(key,value))\n",
    "print(d2)\n",
    "\n",
    "d3=dict(zip(key,value))\n",
    "print(d3)"
   ]
  },
  {
   "cell_type": "code",
   "execution_count": 6,
   "id": "e9b95d5c",
   "metadata": {},
   "outputs": [
    {
     "name": "stdout",
     "output_type": "stream",
     "text": [
      "1 4 9 16 25 "
     ]
    }
   ],
   "source": [
    "a = int(input(\"Enter a number: \"))\n",
    "\n",
    "for i in range(1, a+1):\n",
    "    print(i**2, end=' ')"
   ]
  },
  {
   "cell_type": "code",
   "execution_count": 8,
   "id": "0d15c863",
   "metadata": {},
   "outputs": [
    {
     "name": "stdout",
     "output_type": "stream",
     "text": [
      "{'a': 1, 'b': 2, 'c': 3, 'd': 4}\n"
     ]
    }
   ],
   "source": [
    "dict1 = {'a': 1, 'b': 2}\n",
    "dict2 = {'c': 3, 'd': 4}\n",
    "\n",
    "dict1.update(dict2)\n",
    "print(dict1)\n"
   ]
  },
  {
   "cell_type": "code",
   "execution_count": null,
   "id": "b3d84e17",
   "metadata": {},
   "outputs": [
    {
     "name": "stdout",
     "output_type": "stream",
     "text": [
      "Sachin\n",
      "21\n",
      "50000\n",
      "HDFC Bank\n",
      "The deposit of Rps.1000 is successful.Updated balance is 51000\n",
      "20\n",
      "Bharath\n",
      "4000\n",
      "ICICI Bank\n",
      "The deposit of Rps.5000 is successful.Updated balance is 9000\n"
     ]
    }
   ],
   "source": [
    "# Class Variable, Instance variable, Local variable\n",
    "\n",
    "class customer:\n",
    "    bank_name=\"HDFC Bank\"         #Class Variable\n",
    "\n",
    "    def __init__(self,name,age,init_balance):\n",
    "        self.name=name\n",
    "        self.age=age            #Instance Variable\n",
    "        self.balance=init_balance\n",
    "    def deposit(self,amount):\n",
    "        self.balance += amount        #local Variable\n",
    "        print(f\"The deposit of Rps.{amount} is successful.Updated balance is {self.balance}\")\n",
    "\n",
    "c1=customer(\"Sachin\",21,50000)\n",
    "print(c1.name)\n",
    "print(c1.age)\n",
    "print(c1.balance)\n",
    "print(c1.bank_name)\n",
    "\n",
    "c1.deposit(1000)\n",
    "\n",
    "c2=customer(\"Bharath\",20,4000)\n",
    "print(c2.age)\n",
    "print(c2.name)\n",
    "print(c2.balance)\n",
    "c2.bank_name = \"ICICI Bank\"  # Changing class variable for c2 instance\n",
    "print(c2.bank_name)  # Should print \"ICICI Bank\"\n",
    "\n",
    "c2.deposit(5000)"
   ]
  },
  {
   "cell_type": "code",
   "execution_count": 4,
   "id": "2d7a303a",
   "metadata": {},
   "outputs": [
    {
     "name": "stdout",
     "output_type": "stream",
     "text": [
      "Inner Class\n"
     ]
    }
   ],
   "source": [
    "class Outer:\n",
    "    def __init__(self):\n",
    "        self.x=10\n",
    "\n",
    "    class Inner:\n",
    "        def __init__(self):\n",
    "            self.y=20\n",
    "        def in_display(self):\n",
    "            print('Inner Class')\n",
    "\n",
    "    def out_display(self):\n",
    "        print('Outer Class')\n",
    "\n",
    "out=Outer()\n",
    "in_=out.Inner()\n",
    "\n",
    "in_.in_display()"
   ]
  },
  {
   "cell_type": "code",
   "execution_count": 2,
   "id": "81f76f99",
   "metadata": {},
   "outputs": [
    {
     "name": "stdout",
     "output_type": "stream",
     "text": [
      "Area of rectangle: 50\n",
      "Area of rectangle: 30\n"
     ]
    }
   ],
   "source": [
    "class rectangle:\n",
    "    def __init__(self, length, breadth):\n",
    "        self.length = length\n",
    "        self.breadth = breadth\n",
    "\n",
    "    def area(self):\n",
    "        return self.length * self.breadth\n",
    "\n",
    "    def perimeter(self):\n",
    "        return 2 * (self.length + self.breadth)\n",
    "    \n",
    "\n",
    "r1 = rectangle(10, 5)\n",
    "print(\"Area of rectangle:\", r1.area())\n",
    "print(\"Area of rectangle:\", r1.perimeter())"
   ]
  },
  {
   "cell_type": "code",
   "execution_count": 1,
   "id": "206e9f50",
   "metadata": {},
   "outputs": [
    {
     "name": "stdout",
     "output_type": "stream",
     "text": [
      "It Runs The Function In All Items In Collection Manner\n"
     ]
    }
   ],
   "source": [
    "#camel case\n",
    "import camelcase\n",
    "\n",
    "x = camelcase.CamelCase()\n",
    "a = \"It runs the function in all items in collection manner\"\n",
    "print(x.hump(a))"
   ]
  },
  {
   "cell_type": "code",
   "execution_count": 3,
   "id": "4557d085",
   "metadata": {},
   "outputs": [
    {
     "name": "stdout",
     "output_type": "stream",
     "text": [
      "Bharath\n",
      "[1, 'Sachin', 5001]\n",
      "['Roll No', 'Name', 'Reg_no']\n",
      "['Reg_no', 5001, 5002, 5003, 5004]\n",
      "['Roll No', 1, 2, 3, 4]\n"
     ]
    }
   ],
   "source": [
    "from openpyxl import load_workbook\n",
    "\n",
    "# Load workbook\n",
    "loc = r\"C:\\Sachin\\Programs\\Python\\Practice\\sample1.xlsx\"\n",
    "wb = load_workbook(loc)\n",
    "\n",
    "# Select the first sheet\n",
    "sheet = wb.active  # or: wb.worksheets[0]\n",
    "\n",
    "# # Accessing a specific cell\n",
    "print(sheet.cell(row=3, column=2).value)   # Equivalent to cell_value(0, 0) in xlrd\n",
    "\n",
    "# # Row values (row 2 and row 1)\n",
    "print([cell.value for cell in sheet[2]])   # row index 1 in xlrd\n",
    "print([cell.value for cell in sheet[1]])   # row index 0 in xlrd\n",
    "\n",
    "# # Column values (column 3 and column 1)\n",
    "print([sheet.cell(row=i, column=3).value for i in range(1, sheet.max_row + 1)])  # col index 2\n",
    "print([sheet.cell(row=i, column=1).value for i in range(1, sheet.max_row + 1)])  # col index 0\n"
   ]
  },
  {
   "cell_type": "code",
   "execution_count": 2,
   "id": "6188e643",
   "metadata": {},
   "outputs": [
    {
     "name": "stdout",
     "output_type": "stream",
     "text": [
      "{'name': 'Sachin', 'age': 21, 'balance': 50000}\n"
     ]
    }
   ],
   "source": [
    "import pickle\n",
    "\n",
    "pickle_file = open(\"pick.bin\", \"rb\")\n",
    "data = pickle.load(pickle_file)\n",
    "print(data)"
   ]
  },
  {
   "cell_type": "code",
   "execution_count": 13,
   "id": "70b77dc5",
   "metadata": {},
   "outputs": [
    {
     "name": "stdout",
     "output_type": "stream",
     "text": [
      "{'name': 'Sachin', 'age': 21, 'balance': 50000}\n"
     ]
    }
   ],
   "source": [
    "import pickle\n",
    "\n",
    "mydict = {'name': 'Sachin', 'age': 21, 'balance': 50000}\n",
    "pickle_file = open(\"pick.bin\", \"wb\")\n",
    "pickle.dump(mydict, pickle_file)\n",
    "pickle_file = open(\"pick.bin\", \"rb\")\n",
    "data = pickle.load(pickle_file)\n",
    "print(data)\n",
    "\n",
    "# another way to write pickle file\n",
    "\n",
    "# mydict = {'name': 'Sachin', 'age': 21, 'balance': 50000}\n",
    "# with open(\"pick.bin\", \"wb\") as pickle_file:\n",
    "#     pickle.dump(mydict, pickle_file)    \n",
    "# pickle_file = open(\"pick.bin\", \"rb\")\n",
    "# data = pickle.load(pickle_file)\n",
    "# print(data)"
   ]
  },
  {
   "cell_type": "code",
   "execution_count": 3,
   "id": "9731d26d",
   "metadata": {},
   "outputs": [
    {
     "name": "stdout",
     "output_type": "stream",
     "text": [
      "{'name': 'Sachin', 'age': 21, 'balance': 50000}\n"
     ]
    }
   ],
   "source": [
    "import simplejson\n",
    "\n",
    "mydict = {'name': 'Sachin', 'age': 21, 'balance': 50000}\n",
    "\n",
    "# Write to file\n",
    "with open(\"data1.json\", \"w\") as f:\n",
    "    simplejson.dump(mydict, f)\n",
    "\n",
    "# Read from file\n",
    "with open(\"data1.json\", \"r\") as f:\n",
    "    json_file = simplejson.load(f)\n",
    "\n",
    "print(json_file)\n"
   ]
  },
  {
   "cell_type": "code",
   "execution_count": 2,
   "id": "54cdb45b",
   "metadata": {},
   "outputs": [
    {
     "name": "stdout",
     "output_type": "stream",
     "text": [
      "{\n",
      "    \"fname\": \"Sachin\",\n",
      "    \"lname\": \"Dividi\",\n",
      "    \"age\": \"21\",\n",
      "    \"address\": {\n",
      "        \"houseno\": \"17\",\n",
      "        \"city\": \"chennai\",\n",
      "        \"pincode\": \"600019\"\n",
      "    },\n",
      "    \"phoneno\": [\n",
      "        {\n",
      "            \"type\": \"home\",\n",
      "            \"no\": \"9962340475\"\n",
      "        }\n",
      "    ]\n",
      "}\n"
     ]
    }
   ],
   "source": [
    "import simplejson\n",
    "with open(\"data.json\", \"r\") as f:\n",
    "    json_file = simplejson.load(f)\n",
    "print(simplejson.dumps(json_file, indent=4, sort_keys=False))"
   ]
  },
  {
   "cell_type": "code",
   "execution_count": 36,
   "id": "3bab7b3d",
   "metadata": {},
   "outputs": [
    {
     "name": "stdout",
     "output_type": "stream",
     "text": [
      "file not found\n"
     ]
    }
   ],
   "source": [
    "import os\n",
    "if os.path.exists(\"test.txt\"):\n",
    "    os.remove(\"test.txt\")\n",
    "else:\n",
    "    print(\"file not found\")"
   ]
  },
  {
   "cell_type": "code",
   "execution_count": 40,
   "id": "86c1968a",
   "metadata": {},
   "outputs": [
    {
     "name": "stdout",
     "output_type": "stream",
     "text": [
      "Hi how are you\n",
      "I am Sachin\n",
      "I am Python developer\n",
      "I would like to code\n",
      "Python is a high-level, interpreted programming language known for its simplicity and readability.I am Sachin\n",
      "\n"
     ]
    }
   ],
   "source": [
    "f = open(\"car.txt\", \"r\")\n",
    "print(f.read())\n",
    "f.close()"
   ]
  },
  {
   "cell_type": "code",
   "execution_count": 42,
   "id": "ef8f0856",
   "metadata": {},
   "outputs": [
    {
     "name": "stdout",
     "output_type": "stream",
     "text": [
      "5\n",
      "w are you\n",
      "I am Sachin\n",
      "I am Python developer\n",
      "I would like to code\n",
      "Python is a high-level, interpreted programming language known for its simplicity and readability.\n",
      "\n",
      "174\n"
     ]
    }
   ],
   "source": [
    "with open(\"car.txt\", \"r\") as f:\n",
    "    f.seek(5)  # Reset file pointer to the beginning\n",
    "    print(f.tell())  # Print current position\n",
    "    print(f.read())\n",
    "    print(f.tell())  # Print current position after reading"
   ]
  },
  {
   "cell_type": "code",
   "execution_count": 43,
   "id": "4520bf7e",
   "metadata": {},
   "outputs": [],
   "source": [
    "import zipfile\n",
    "with zipfile.ZipFile('sample.zip', 'w') as archive:\n",
    "    archive.write(\"data1.json\")\n",
    "    archive.write(\"pick.bin\")   \n",
    "    archive.write(\"car.txt\")  # Assuming test.txt exists in the current directory"
   ]
  },
  {
   "cell_type": "code",
   "execution_count": 44,
   "id": "21240286",
   "metadata": {},
   "outputs": [],
   "source": [
    "with zipfile.ZipFile('sample.zip', 'r') as archive:\n",
    "    archive.extractall()"
   ]
  },
  {
   "cell_type": "code",
   "execution_count": null,
   "id": "73e52ff5",
   "metadata": {},
   "outputs": [],
   "source": [
    "# print(os.path.exists(\"sample.zip\"))\n",
    "\n",
    "# print(os.getcwd())  # Print current working directory\n",
    "# print(os.listdir())  # List files in the current directory\n",
    "# os.mkdir(\"new_folder\")  # Create a new directory\n",
    "# os.rmdir(\"new_folder\")  # Remove the directory\n",
    "\n"
   ]
  },
  {
   "cell_type": "code",
   "execution_count": 10,
   "id": "9da218b2",
   "metadata": {},
   "outputs": [
    {
     "name": "stdout",
     "output_type": "stream",
     "text": [
      "Thread is running arg1 and arg2\n",
      "Thread has started\n"
     ]
    }
   ],
   "source": [
    "import threading\n",
    "\n",
    "def my_thread(a1, a2):\n",
    "    print(f\"Thread is running {a1} and {a2}\")\n",
    "    \n",
    "t = threading.Thread(target=my_thread, args=(\"arg1\", \"arg2\"))\n",
    "\n",
    "t.start()\n",
    "\n",
    "t.join()  # Wait for the thread to finish\n",
    "print(\"Thread has started\") \n",
    "\n"
   ]
  },
  {
   "cell_type": "code",
   "execution_count": 2,
   "id": "98164b8e",
   "metadata": {},
   "outputs": [
    {
     "name": "stdout",
     "output_type": "stream",
     "text": [
      "Task 1 is running\n",
      "Task 1 is completed\n",
      "Task 2 is running\n",
      "Task 2 is completed\n",
      "All tasks are completed\n"
     ]
    }
   ],
   "source": [
    "# lock \n",
    "import threading\n",
    "import time\n",
    "lock = threading.Lock()\n",
    "\n",
    "def task1():\n",
    "    lock.acquire()  # Acquire the lock\n",
    "    print(\"Task 1 is running\")\n",
    "    time.sleep(5)  # Simulate some work\n",
    "    print(\"Task 1 is completed\")\n",
    "    lock.release()  # Release the lock\n",
    "\n",
    "def task2():\n",
    "    lock.acquire()  # Acquire the lock\n",
    "    print(\"Task 2 is running\")\n",
    "    time.sleep(3)  # Simulate some work\n",
    "    print(\"Task 2 is completed\")\n",
    "    lock.release()  # Release the lock\n",
    "\n",
    "t1 = threading.Thread(target=task1)\n",
    "t2 = threading.Thread(target=task2)\n",
    "\n",
    "t1.start()\n",
    "t2.start()\n",
    "\n",
    "# print(\"All tasks are completed\")\n",
    "\n",
    "t1.join()\n",
    "t2.join()\n",
    "\n",
    "print(\"All tasks are completed\")"
   ]
  },
  {
   "cell_type": "code",
   "execution_count": 4,
   "id": "e46d7634",
   "metadata": {},
   "outputs": [
    {
     "name": "stdout",
     "output_type": "stream",
     "text": [
      "Task 1 is running\n",
      "Task 1 is completed\n",
      "Task 2 is running\n",
      "Task 2 is completed\n",
      "All tasks are completed\n"
     ]
    }
   ],
   "source": [
    "# Semaphore\n",
    "import threading\n",
    "import time\n",
    "semaphore = threading.Semaphore()\n",
    "\n",
    "def task1():\n",
    "    semaphore.acquire()  # Acquire the lock\n",
    "    print(\"Task 1 is running\")\n",
    "    time.sleep(5)  # Simulate some work\n",
    "    print(\"Task 1 is completed\")\n",
    "    semaphore.release()  # Release the lock\n",
    "\n",
    "def task2():\n",
    "    semaphore.acquire()  # Acquire the lock\n",
    "    print(\"Task 2 is running\")\n",
    "    time.sleep(3)  # Simulate some work\n",
    "    print(\"Task 2 is completed\")\n",
    "    semaphore.release()  # Release the lock\n",
    "\n",
    "t1 = threading.Thread(target=task1)\n",
    "t2 = threading.Thread(target=task2)\n",
    "\n",
    "t1.start()\n",
    "t2.start()\n",
    "\n",
    "# print(\"All tasks are completed\")\n",
    "\n",
    "t1.join()\n",
    "t2.join()\n",
    "\n",
    "print(\"All tasks are completed\")"
   ]
  },
  {
   "cell_type": "code",
   "execution_count": 6,
   "id": "c55cb51b",
   "metadata": {},
   "outputs": [
    {
     "name": "stdout",
     "output_type": "stream",
     "text": [
      "Task 1 is running\n",
      "Task 2 is running\n",
      "Task 2 is completed\n",
      "Task 1 is completed\n",
      "All tasks are completed\n"
     ]
    }
   ],
   "source": [
    "# ThreadPool\n",
    "from concurrent.futures import ThreadPoolExecutor\n",
    "import time\n",
    "\n",
    "def task1():\n",
    "    print(\"Task 1 is running\")\n",
    "    time.sleep(5)  # Simulate some work\n",
    "    print(\"Task 1 is completed\")\n",
    "    return task1\n",
    "\n",
    "def task2():\n",
    "    print(\"Task 2 is running\")\n",
    "    time.sleep(3)  # Simulate some work\n",
    "    print(\"Task 2 is completed\")\n",
    "    return task2\n",
    "\n",
    "with ThreadPoolExecutor(max_workers=2) as executor:\n",
    "    t1=executor.submit(task1)\n",
    "    t2= executor.submit(task2)\n",
    "\n",
    "task1_result = t1.result()  # Wait for task1 to complete\n",
    "task2_result = t2.result()  # Wait for task2 to complete\n",
    "\n",
    "print(\"All tasks are completed\")\n"
   ]
  },
  {
   "cell_type": "code",
   "execution_count": null,
   "id": "7e8f332c",
   "metadata": {},
   "outputs": [
    {
     "name": "stdout",
     "output_type": "stream",
     "text": [
      "Task 1 is running\n",
      "Task 2 is running\n"
     ]
    },
    {
     "name": "stdout",
     "output_type": "stream",
     "text": [
      "Task 2 is completed\n",
      "Task 1 is completed\n"
     ]
    }
   ],
   "source": [
    "import threading\n",
    "import time\n",
    "def task1():\n",
    "    print(\"Task 1 is running\")\n",
    "    time.sleep(5)  # Simulate some work\n",
    "    print(\"Task 1 is completed\")\n",
    "    return task1\n",
    "\n",
    "def task2():\n",
    "    print(\"Task 2 is running\")\n",
    "    time.sleep(3)  # Simulate some work\n",
    "    print(\"Task 2 is completed\")\n",
    "    return task2\n",
    "\n",
    "t1 = threading.Thread(target=task1)\n",
    "t2 = threading.Thread(target=task2)     \n",
    "\n",
    "t1.start()\n",
    "t2.start()"
   ]
  },
  {
   "cell_type": "code",
   "execution_count": null,
   "metadata": {},
   "outputs": [
    {
     "name": "stdout",
     "output_type": "stream",
     "text": [
      "Task1 is locked by lock1\n",
      "Task1 is locked by lock2\n",
      "Task 1 is started\n",
      "All the task is completed\n"
     ]
    },
    {
     "name": "stdout",
     "output_type": "stream",
     "text": [
      "Task 1 is completed\n",
      "Task2 is locked by lock1\n",
      "Task2 is locked by lock2\n",
      "Task 2 is started\n",
      "Task 2 is completed\n"
     ]
    }
   ],
   "source": [
    "# Deadlock example\n",
    "\n",
    "import threading\n",
    "import time\n",
    "lock1=threading.Lock()\n",
    "lock2=threading.Lock()\n",
    "def task1():\n",
    "    lock1.acquire()\n",
    "    print('Task1 is locked by lock1')\n",
    "    lock2.acquire()\n",
    "    print('Task1 is locked by lock2')\n",
    "    \n",
    "    print(\"Task 1 is started\")\n",
    "    time.sleep(2)\n",
    "    print(\"Task 1 is completed\")\n",
    "    lock1.release()\n",
    "    lock2.release()\n",
    "    \n",
    "def task2():\n",
    "    lock2.acquire()\n",
    "    print('Task2 is locked by lock1')\n",
    "    lock1.acquire()\n",
    "    print('Task2 is locked by lock2')\n",
    "    \n",
    "    print(\"Task 2 is started\")\n",
    "    time.sleep(5)\n",
    "    print(\"Task 2 is completed\")\n",
    "    lock2.release()\n",
    "    lock1.release()\n",
    "    \n",
    "t1=threading.Thread(target=task1)\n",
    "t2=threading.Thread(target=task2)\n",
    "\n",
    "t1.start()\n",
    "t2.start()\n",
    "\n",
    "# t1.join()\n",
    "# t2.join()\n",
    "print(\"All the task is completed\")"
   ]
  },
  {
   "cell_type": "code",
   "execution_count": null,
   "id": "798a62e6",
   "metadata": {},
   "outputs": [],
   "source": [
    "# Thread communication\n",
    "\n",
    "# import threading\n",
    "# condition = threading.Condition()\n",
    "\n",
    "# def task1():\n",
    "#     with condition:\n",
    "#         print(\"Thread signal is waiting\")\n",
    "#         condition.wait()  # Wait for a notification\n",
    "#         print(\"Thread signal is received\")\n",
    "\n",
    "# t = threading.Thread(target=task1)\n",
    "# t.start()   \n",
    "# # t.join()  # Wait for the thread to finish\n",
    "\n",
    "# with condition:\n",
    "#     print(\"Main thread is notifying\")\n",
    "#     condition.notify()  # Notify the waiting thread\n",
    "\n",
    "# t.join()  # Wait for the thread to finish\n",
    "\n",
    "# Queue example\n",
    "\n",
    "# import threading\n",
    "# import queue\n",
    "# q = queue.Queue()\n",
    "\n",
    "# def task1():\n",
    "#     while True:\n",
    "#         item = q.get()  \n",
    "#         print(f\"Task 1 processing item: {item}\")\n",
    "#         q.task_done()\n",
    "\n",
    "# t1 = threading.Thread(target=task1)\n",
    "# t1.start()\n",
    "# q.put(\"Item 1\")\n",
    "# q.put(\"Item 2\")\n",
    "\n",
    "# t1.join()  # Wait for all items to be processed\n",
    "\n",
    "# Daemon thread example\n",
    "import threading\n",
    "import time\n",
    "\n",
    "def task1():\n",
    "    while True:\n",
    "        print(\"Daemon thread is running\")\n",
    "        time.sleep(2)  # Simulate some work\n",
    "\n",
    "t1 = threading.Thread(target=task1)\n",
    "t1.daemon = True  # Set the thread as a daemon thread\n",
    "t1.start()\n",
    "t1.join()"
   ]
  },
  {
   "cell_type": "code",
   "execution_count": null,
   "id": "6cf2ea39",
   "metadata": {},
   "outputs": [],
   "source": []
  },
  {
   "cell_type": "code",
   "execution_count": null,
   "id": "2bc45c10",
   "metadata": {},
   "outputs": [],
   "source": []
  },
  {
   "cell_type": "code",
   "execution_count": null,
   "id": "597418b4",
   "metadata": {},
   "outputs": [],
   "source": []
  }
 ],
 "metadata": {
  "kernelspec": {
   "display_name": "Python 3",
   "language": "python",
   "name": "python3"
  },
  "language_info": {
   "codemirror_mode": {
    "name": "ipython",
    "version": 3
   },
   "file_extension": ".py",
   "mimetype": "text/x-python",
   "name": "python",
   "nbconvert_exporter": "python",
   "pygments_lexer": "ipython3",
   "version": "3.13.2"
  }
 },
 "nbformat": 4,
 "nbformat_minor": 5
}
