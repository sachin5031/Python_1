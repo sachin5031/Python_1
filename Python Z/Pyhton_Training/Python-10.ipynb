{
 "cells": [
  {
   "cell_type": "markdown",
   "metadata": {},
   "source": [
    "## Scope of Variables in Functions \n",
    "\n",
    "### Definition of Scope:\n",
    "Scope determines where a variable can be accessed in the program. \n",
    "\n",
    "Python follows the LEGB Rule: \\\n",
    "Local Scope: Variables declared inside a function. \\\n",
    "Enclosed Scope: Variables in enclosing functions (for nested functions). \\\n",
    "Global Scope: Variables declared outside all functions. \\\n",
    "Built-in Scope: Reserved Python keywords and built-in functions.\n",
    "\n"
   ]
  },
  {
   "cell_type": "code",
   "execution_count": 3,
   "metadata": {},
   "outputs": [
    {
     "name": "stdout",
     "output_type": "stream",
     "text": [
      "Local x: 5\n",
      "Global x: 10\n"
     ]
    }
   ],
   "source": [
    "x = 10  # Global variable\n",
    "\n",
    "def func():\n",
    "    x = 5  # Local variable\n",
    "    print(\"Local x:\", x)\n",
    "\n",
    "func()\n",
    "print(\"Global x:\", x)\n"
   ]
  },
  {
   "cell_type": "code",
   "execution_count": 3,
   "metadata": {},
   "outputs": [
    {
     "name": "stdout",
     "output_type": "stream",
     "text": [
      "Inner x: 6\n",
      "Outer x: 6\n"
     ]
    }
   ],
   "source": [
    "def outer():\n",
    "    x = 5  # Enclosed variable\n",
    "\n",
    "    def inner():\n",
    "        nonlocal x  # Refers to 'x' in the enclosing scope\n",
    "        x += 1\n",
    "        print(\"Inner x:\", x)\n",
    "\n",
    "    inner()\n",
    "    print(\"Outer x:\", x)\n",
    "\n",
    "outer()\n"
   ]
  },
  {
   "cell_type": "markdown",
   "metadata": {},
   "source": [
    "## Nested Functions \n",
    "\n",
    "### Definition:\n",
    "A function defined inside another function is called a nested function.\n",
    "\n",
    "### nonlocal in Nested Functions:\n",
    "Access variables from the enclosing scope inside a nested function.\n",
    "\n"
   ]
  },
  {
   "cell_type": "code",
   "execution_count": 11,
   "metadata": {},
   "outputs": [
    {
     "name": "stdout",
     "output_type": "stream",
     "text": [
      "Hello, Alice!\n"
     ]
    }
   ],
   "source": [
    "def greet(name):\n",
    "    def message():\n",
    "        return \"Hello\"\n",
    "    return f\"{message()}, {name}!\"\n",
    "\n",
    "print(greet(\"Alice\"))\n"
   ]
  },
  {
   "cell_type": "markdown",
   "metadata": {},
   "source": [
    "## args and kwargs in Functions \n",
    "\n",
    "### *args:\n",
    "\n",
    "Allows a function to accept any number of positional arguments.\n",
    "Collected as a tuple inside the function.\n",
    "\n",
    "### **kwargs:\n",
    "\n",
    "Allows a function to accept any number of keyword arguments.\n",
    "Collected as a dictionary inside the function."
   ]
  },
  {
   "cell_type": "code",
   "execution_count": 13,
   "metadata": {},
   "outputs": [
    {
     "name": "stdout",
     "output_type": "stream",
     "text": [
      "Args: (1, 2, 3, 4)\n",
      "Sum: 10\n"
     ]
    }
   ],
   "source": [
    "def add_numbers(*s):\n",
    "    print(\"Args:\", s)\n",
    "    return sum(s)\n",
    "\n",
    "result = add_numbers(1, 2, 3, 4)\n",
    "print(\"Sum:\", result)\n"
   ]
  },
  {
   "cell_type": "code",
   "execution_count": 14,
   "metadata": {},
   "outputs": [
    {
     "name": "stdout",
     "output_type": "stream",
     "text": [
      "name: Alice\n",
      "age: 30\n",
      "city: New York\n"
     ]
    }
   ],
   "source": [
    "def print_info(**kwargs):\n",
    "    for key, value in kwargs.items():\n",
    "        print(f\"{key}: {value}\")\n",
    "\n",
    "print_info(name=\"Alice\", age=30, city=\"New York\")\n"
   ]
  },
  {
   "cell_type": "code",
   "execution_count": 1,
   "metadata": {},
   "outputs": [
    {
     "name": "stdout",
     "output_type": "stream",
     "text": [
      "Positional args: (1, 2, 3)\n",
      "Keyword args: {'name': 'Alice', 'age': 30}\n"
     ]
    }
   ],
   "source": [
    "def demo(*args, **kwargs):\n",
    "    print(\"Positional args:\", args)\n",
    "    print(\"Keyword args:\", kwargs)\n",
    "\n",
    "demo(1, 2, 3, name=\"Alice\", age=30)\n"
   ]
  },
  {
   "cell_type": "markdown",
   "metadata": {},
   "source": [
    "## Loops in Functions \n",
    "\n",
    "Using for loops and while loops inside functions to process data.\n",
    "How loops allow functions to perform repetitive tasks.\n",
    "Example use cases: Iterating over lists, performing calculations, or searching for items."
   ]
  },
  {
   "cell_type": "code",
   "execution_count": 5,
   "metadata": {},
   "outputs": [
    {
     "name": "stdout",
     "output_type": "stream",
     "text": [
      "apple\n",
      "banana\n",
      "cherry\n"
     ]
    }
   ],
   "source": [
    "def print_items(items):\n",
    "    for item in items:\n",
    "        print(item)\n",
    "\n",
    "fruits = [\"apple\", \"banana\", \"cherry\"]\n",
    "print_items(fruits)\n"
   ]
  },
  {
   "cell_type": "code",
   "execution_count": 4,
   "metadata": {},
   "outputs": [
    {
     "name": "stdout",
     "output_type": "stream",
     "text": [
      "5\n",
      "4\n",
      "3\n",
      "2\n",
      "1\n",
      "Liftoff!\n"
     ]
    }
   ],
   "source": [
    "def countdown(n):\n",
    "    while n > 0:\n",
    "        print(n)\n",
    "        n -= 1\n",
    "    print(\"Liftoff!\")\n",
    "\n",
    "countdown(5)\n"
   ]
  },
  {
   "cell_type": "markdown",
   "metadata": {},
   "source": [
    "## Lambda Functions \n",
    "\n",
    "### Definition:\n",
    "A lambda function is a single-line anonymous function.\n",
    "It can take any number of arguments but only one expression.\n",
    "\n",
    "### Syntax:\n",
    "lambda arguments: expression\n",
    "\n",
    "### Use Cases:\n",
    "\n",
    "Quick, temporary functions for simple operations."
   ]
  },
  {
   "cell_type": "code",
   "execution_count": null,
   "metadata": {},
   "outputs": [
    {
     "name": "stdout",
     "output_type": "stream",
     "text": [
      "10\n"
     ]
    }
   ],
   "source": [
    "def multiplier(n):\n",
    "    return lambda x: x * n\n",
    "\n",
    "double = multiplier(2)\n",
    "print(double(5)) "
   ]
  },
  {
   "cell_type": "markdown",
   "metadata": {},
   "source": [
    "## Map Function \n",
    "\n",
    "The map() function in Python is a built-in function that applies a given function to all items in an iterable (like a list, tuple, etc.) and returns an iterator.\n",
    "\n",
    "### syntax\n",
    "map(function, iterable, ...)\n",
    "\n",
    "function: The function to apply to each element of the iterable. \\\n",
    "iterable: One or more iterables (e.g., lists, tuples) whose elements will be passed to the function. \\\n",
    "The number of iterables passed must match the number of arguments the function expects. \n"
   ]
  },
  {
   "cell_type": "code",
   "execution_count": 18,
   "metadata": {},
   "outputs": [
    {
     "name": "stdout",
     "output_type": "stream",
     "text": [
      "[1, 4, 9, 16]\n"
     ]
    }
   ],
   "source": [
    "nums = [1, 2, 3, 4]\n",
    "squares = map(lambda x: x ** 2, nums)\n",
    "print(list(squares))"
   ]
  },
  {
   "cell_type": "markdown",
   "metadata": {},
   "source": [
    "## Filter Function\n",
    "filter() function in Python is a built-in function used to filter elements from an iterable (like a list, tuple, or string) based on whether they satisfy a given condition. It applies a function (the condition) to each element of the iterable and includes only those elements for which the function returns True.\n",
    "\n",
    "### syntax:\n",
    "filter(function, iterable)\n",
    "\n",
    "function: A function that returns a Boolean value (True or False). \\\n",
    "If None is provided, filter() will simply return the elements that are truthy. \\\n",
    "iterable: The iterable (e.g., list, tuple) whose elements you want to filter.\n"
   ]
  },
  {
   "cell_type": "code",
   "execution_count": 16,
   "metadata": {},
   "outputs": [
    {
     "name": "stdout",
     "output_type": "stream",
     "text": [
      "[2, 4]\n"
     ]
    }
   ],
   "source": [
    "nums = [1, 2, 3, 4, 5]\n",
    "evens = filter(lambda x: x % 2 == 0, nums)\n",
    "print(list(evens))  \n"
   ]
  },
  {
   "cell_type": "markdown",
   "metadata": {},
   "source": [
    "## Importing a Python Function File as a Module\n",
    "\n",
    " module allows you to organize your code into manageable, reusable pieces. By importing a Python file as a module, you can use the functions, classes, and variables defined within it in other Python scripts.\n",
    "\n",
    " "
   ]
  },
  {
   "cell_type": "code",
   "execution_count": 9,
   "metadata": {},
   "outputs": [
    {
     "name": "stdout",
     "output_type": "stream",
     "text": [
      "5\n"
     ]
    }
   ],
   "source": [
    "import util as m\n",
    "\n",
    "print(m.add(2,3))"
   ]
  },
  {
   "cell_type": "code",
   "execution_count": 10,
   "metadata": {},
   "outputs": [
    {
     "name": "stdout",
     "output_type": "stream",
     "text": [
      "6\n"
     ]
    }
   ],
   "source": [
    "from util import multiply as m\n",
    "print(m(2,3))"
   ]
  }
 ],
 "metadata": {
  "kernelspec": {
   "display_name": "Python 3",
   "language": "python",
   "name": "python3"
  },
  "language_info": {
   "codemirror_mode": {
    "name": "ipython",
    "version": 3
   },
   "file_extension": ".py",
   "mimetype": "text/x-python",
   "name": "python",
   "nbconvert_exporter": "python",
   "pygments_lexer": "ipython3",
   "version": "3.11.9"
  }
 },
 "nbformat": 4,
 "nbformat_minor": 2
}
