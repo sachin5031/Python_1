{
 "cells": [
  {
   "cell_type": "markdown",
   "metadata": {},
   "source": [
    "# What is an Exception?\n",
    "An exception is an unexpected event that occurs during the execution of a program, disrupting its normal flow. \\\n",
    "These are errors that happen at runtime (while the program is running) and not due to incorrect syntax.\n"
   ]
  },
  {
   "cell_type": "markdown",
   "metadata": {},
   "source": [
    "# What is Exception Handling?\n",
    "*Exception handling* is a way to manage runtime errors in Python. \\\n",
    "Instead of letting the program crash, you can \"catch\" the exception and decide what to do, such as: \n",
    "\n",
    "Displaying an appropriate error message. \\\n",
    "Attempting a different action. \\\n",
    "Ensuring resources (like files or databases) are properly closed. \n",
    "\n",
    "\n",
    "\n",
    "This makes your program more reliable and user-friendly."
   ]
  },
  {
   "cell_type": "markdown",
   "metadata": {},
   "source": [
    "# Types of Exceptions\n",
    "Python has many built-in exceptions to handle various situations. Here are some common ones:"
   ]
  },
  {
   "cell_type": "code",
   "execution_count": null,
   "metadata": {},
   "outputs": [],
   "source": [
    "#ZeroDivisionError: Raised when dividing by zero.\n",
    "\n",
    "\n",
    "print(10 / 0)  # Raises ZeroDivisionError"
   ]
  },
  {
   "cell_type": "code",
   "execution_count": null,
   "metadata": {},
   "outputs": [],
   "source": [
    "#NameError: Raised when trying to access a variable that hasn’t been defined.\n",
    "\n",
    "\n",
    "print(x)  # Raises NameError because 'x' is not defined\n"
   ]
  },
  {
   "cell_type": "code",
   "execution_count": null,
   "metadata": {},
   "outputs": [],
   "source": [
    "#FileNotFoundError: Raised when trying to open a file that doesn’t exist.\n",
    "\n",
    "\n",
    "open(\"nonexistent_file.txt\")  # Raises FileNotFoundError\n"
   ]
  },
  {
   "cell_type": "code",
   "execution_count": null,
   "metadata": {},
   "outputs": [],
   "source": [
    "#TypeError: Raised when an operation is applied to an object of an inappropriate type.\n",
    "\n",
    "\n",
    "print(\"Hello\" + 5)  # Raises TypeError because a string cannot be added to an integer\n"
   ]
  },
  {
   "cell_type": "code",
   "execution_count": 6,
   "metadata": {},
   "outputs": [
    {
     "ename": "ValueError",
     "evalue": "invalid literal for int() with base 10: 'Hello'",
     "output_type": "error",
     "traceback": [
      "\u001b[1;31m---------------------------------------------------------------------------\u001b[0m",
      "\u001b[1;31mValueError\u001b[0m                                Traceback (most recent call last)",
      "Cell \u001b[1;32mIn[6], line 4\u001b[0m\n\u001b[0;32m      1\u001b[0m \u001b[38;5;66;03m#ValueError: Raised when a function gets an argument of the correct type but an inappropriate value.\u001b[39;00m\n\u001b[1;32m----> 4\u001b[0m \u001b[38;5;28;43mint\u001b[39;49m\u001b[43m(\u001b[49m\u001b[38;5;124;43m\"\u001b[39;49m\u001b[38;5;124;43mHello\u001b[39;49m\u001b[38;5;124;43m\"\u001b[39;49m\u001b[43m)\u001b[49m  \u001b[38;5;66;03m# Raises ValueError because \"Hello\" cannot be converted to an integer\u001b[39;00m\n",
      "\u001b[1;31mValueError\u001b[0m: invalid literal for int() with base 10: 'Hello'"
     ]
    }
   ],
   "source": [
    "#ValueError: Raised when a function gets an argument of the correct type but an inappropriate value.\n",
    "\n",
    "\n",
    "int(\"Hello\")  # Raises ValueError because \"Hello\" cannot be converted to an integer\n"
   ]
  },
  {
   "cell_type": "markdown",
   "metadata": {},
   "source": [
    "# Handling Exceptions with try and except\n",
    "To prevent exceptions from crashing your program, you can handle them using a try-except block.\n",
    "\n",
    "Basic Syntax:\n",
    "\n",
    "try: \\\n",
    "    # Code that might raise an exception \\\n",
    "except: \\\n",
    "    # Code to handle the exception"
   ]
  },
  {
   "cell_type": "markdown",
   "metadata": {},
   "source": [
    "# What is a try block?\n",
    "The try block is used to write code that might cause an exception (an error that occurs during program execution).\n",
    "\n",
    "Python will try to execute the code inside this block. \\\n",
    "If the code runs without any issues, the program continues normally. \\\n",
    "If an exception occurs, Python stops executing the try block and moves to the corresponding except block."
   ]
  },
  {
   "cell_type": "markdown",
   "metadata": {},
   "source": [
    "# What is an except block?\n",
    "The except block is where you handle the exception if it occurs in the try block.\n",
    "\n",
    "The except block allows you to respond to the error gracefully (e.g., by showing a message or taking corrective action). \\\n",
    "If no exception happens in the try block, the except block is skipped."
   ]
  },
  {
   "cell_type": "markdown",
   "metadata": {},
   "source": [
    "# What is a finally Block?\n",
    "The finally block in Python is used to specify code that should always run, whether an exception occurs or not.\n",
    "\n",
    "It is often used for cleanup tasks, such as closing files, releasing resources, or resetting variables. \\\n",
    "Even if a try block raises an exception, or an exception is caught in the except block, the finally block will still execute. \n"
   ]
  },
  {
   "cell_type": "code",
   "execution_count": 7,
   "metadata": {},
   "outputs": [
    {
     "name": "stdout",
     "output_type": "stream",
     "text": [
      "An error occurred: Division by zero is not allowed.\n"
     ]
    }
   ],
   "source": [
    "try:\n",
    "   \n",
    "    result = 10 / 0\n",
    "    \n",
    "except :\n",
    "    \n",
    "    print(\"An error occurred: Division by zero is not allowed.\")\n"
   ]
  },
  {
   "cell_type": "code",
   "execution_count": null,
   "metadata": {},
   "outputs": [
    {
     "name": "stdout",
     "output_type": "stream",
     "text": [
      "invalid literal for int() with base 10: 'hi'\n"
     ]
    }
   ],
   "source": [
    "try:\n",
    "   \n",
    "    result = 10 / 0\n",
    "    \n",
    "except Exception as e:\n",
    "    \n",
    "    print(\"An error occurred: Division by zero is not allowed.\", e)"
   ]
  },
  {
   "cell_type": "code",
   "execution_count": 16,
   "metadata": {},
   "outputs": [
    {
     "name": "stdout",
     "output_type": "stream",
     "text": [
      "Wrong\n",
      "this will always be executed.\n"
     ]
    }
   ],
   "source": [
    "try:\n",
    "\n",
    "    a=10\n",
    "    b=\"hi\"\n",
    "    print(a+b)\n",
    "\n",
    "except ZeroDivisionError as e:\n",
    "\n",
    "    print(\"An error occurred: Division by zero is not allowed.\", e)\n",
    "\n",
    "except Exception:\n",
    "    print(\"Wrong\")\n",
    "    \n",
    "finally:\n",
    "\n",
    "    print('this will always be executed.')"
   ]
  },
  {
   "cell_type": "code",
   "execution_count": null,
   "metadata": {},
   "outputs": [
    {
     "name": "stdout",
     "output_type": "stream",
     "text": [
      "Not Valid\n",
      "Done\n"
     ]
    }
   ],
   "source": [
    "try:\n",
    "    a=int(input())\n",
    "    if a<=0:\n",
    "        raise ValueError(\"Negative values\")\n",
    "\n",
    "except ValueError as e:\n",
    "    print(\"Error\",e)\n",
    "\n",
    "except Exception as e:\n",
    "    print(\"Not eligible\",e)\n",
    "\n",
    "else:\n",
    "    print(\"Not Valid\")\n",
    "\n",
    "finally:\n",
    "    print(\"Done\")"
   ]
  }
 ],
 "metadata": {
  "kernelspec": {
   "display_name": "Python 3",
   "language": "python",
   "name": "python3"
  },
  "language_info": {
   "codemirror_mode": {
    "name": "ipython",
    "version": 3
   },
   "file_extension": ".py",
   "mimetype": "text/x-python",
   "name": "python",
   "nbconvert_exporter": "python",
   "pygments_lexer": "ipython3",
   "version": "3.12.6"
  }
 },
 "nbformat": 4,
 "nbformat_minor": 2
}
