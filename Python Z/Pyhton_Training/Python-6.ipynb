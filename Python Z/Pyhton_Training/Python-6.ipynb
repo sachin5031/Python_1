{
 "cells": [
  {
   "cell_type": "markdown",
   "metadata": {},
   "source": [
    "# **Dictionary**"
   ]
  },
  {
   "cell_type": "markdown",
   "metadata": {},
   "source": [
    "A dictionary in Python is a collection of key-value pairs. Keys are unique and act as identifiers, while values are associated data. Think of a dictionary as a real-world dictionary where words (keys) map to their meanings (values)."
   ]
  },
  {
   "cell_type": "code",
   "execution_count": null,
   "metadata": {},
   "outputs": [],
   "source": [
    "my_dict = {\n",
    "    \"name\": \"Alice\",\n",
    "    \"age\": 25,\n",
    "    \"city\": \"New York\"\n",
    "}\n",
    "print(my_dict)\n",
    "print(my_dict['city']) #print value using key\n"
   ]
  },
  {
   "cell_type": "markdown",
   "metadata": {},
   "source": [
    "Keys is unique and immutable.\\\n",
    "Values can be any type: string, list, tuple, or even another dictionary.\\\n",
    "Dictionaries are mutable, meaning we can add, update, or delete items."
   ]
  },
  {
   "cell_type": "code",
   "execution_count": null,
   "metadata": {},
   "outputs": [],
   "source": [
    "my_dict[\"age\"] = 26          # Update\n",
    "my_dict[\"country\"] = \"USA\"   # Add\n",
    "del my_dict[\"city\"]          # Delete\n",
    "print(my_dict)\n"
   ]
  },
  {
   "cell_type": "markdown",
   "metadata": {},
   "source": [
    "Dictionaries come with built-in methods to make data manipulation easier. Let's explore them."
   ]
  },
  {
   "cell_type": "markdown",
   "metadata": {},
   "source": [
    "The keys() method returns a view object that displays all the keys in the dictionary.\n",
    "\n",
    " This view object can be iterated over and converted into a list if needed.\n",
    "\n",
    "It returns a view of the dictionary's keys. The view reflects any changes made to the dictionary"
   ]
  },
  {
   "cell_type": "code",
   "execution_count": null,
   "metadata": {},
   "outputs": [],
   "source": [
    "my_dict = {\"name\": \"Alice\", \"age\": 25, \"city\": \"New York\"}\n",
    "print(my_dict.keys())  \n"
   ]
  },
  {
   "cell_type": "markdown",
   "metadata": {},
   "source": [
    "The values() method returns a view object that displays all the values in the dictionary.\n",
    "\n",
    "dictionary.values()\n",
    "\n",
    "It returns a view of the dictionary's values. Like keys(), this view reflects changes made to the dictionary."
   ]
  },
  {
   "cell_type": "code",
   "execution_count": null,
   "metadata": {},
   "outputs": [],
   "source": [
    "my_dict = {\"name\": \"Alice\", \"age\": 25, \"city\": \"New York\"}\n",
    "print(my_dict.values()) \n"
   ]
  },
  {
   "cell_type": "markdown",
   "metadata": {},
   "source": [
    "The items() method returns a view object that displays all the key-value pairs in the dictionary as tuples.\n",
    "\n",
    "dictionary.items()\n",
    "\n",
    "It returns a view of the dictionary's key-value pairs as tuples. Each tuple contains the key and its associated value."
   ]
  },
  {
   "cell_type": "code",
   "execution_count": null,
   "metadata": {},
   "outputs": [],
   "source": [
    "my_dict = {\"name\": \"Alice\", \"age\": 25, \"city\": \"New York\"}\n",
    "print(my_dict.items())  \n"
   ]
  },
  {
   "cell_type": "markdown",
   "metadata": {},
   "source": [
    "The get() method is used to safely retrieve the value associated with a specified key. If the key doesn't exist, it returns a default value instead of raising an error.\n",
    "\n",
    "dictionary.get(key, default_value)\n",
    "\n",
    "It returns the value associated with the key. If the key is not found, it returns the default value provided. If no default value is provided, it returns None."
   ]
  },
  {
   "cell_type": "code",
   "execution_count": 11,
   "metadata": {},
   "outputs": [
    {
     "name": "stdout",
     "output_type": "stream",
     "text": [
      "Alice\n",
      "no such key is available\n"
     ]
    }
   ],
   "source": [
    "my_dict = {\"name\": \"Alice\", \"age\": 25, \"city\": \"New York\"}\n",
    "print(my_dict.get(\"name\")) \n",
    "print(my_dict.get(\"country\",'no such key is available'))  \n"
   ]
  },
  {
   "cell_type": "markdown",
   "metadata": {},
   "source": [
    "The pop() method removes and returns the value associated with the specified key. If the key doesn't exist, it raises a KeyError unless a default value is provided.\n",
    "\n",
    "dictionary.pop(key, default_value)\n",
    "\n",
    "It removes the specified key-value pair from the dictionary and returns the value. If the key is not found, it raises a KeyError unless the default value is provided."
   ]
  },
  {
   "cell_type": "code",
   "execution_count": 12,
   "metadata": {},
   "outputs": [
    {
     "name": "stdout",
     "output_type": "stream",
     "text": [
      "25\n",
      "{'name': 'Alice', 'city': 'New York'}\n"
     ]
    }
   ],
   "source": [
    "my_dict = {\"name\": \"Alice\", \"age\": 25, \"city\": \"New York\"}\n",
    "print(my_dict.pop(\"age\"))\n",
    "print(my_dict)  \n"
   ]
  },
  {
   "cell_type": "markdown",
   "metadata": {},
   "source": [
    "The update() method is used to add multiple key-value pairs to a dictionary or update existing keys with new values.\n",
    "\n",
    "dictionary.update(other_dictionary)\n",
    "\n",
    "It updates the dictionary with elements from another dictionary or an iterable of key-value pairs."
   ]
  },
  {
   "cell_type": "code",
   "execution_count": 13,
   "metadata": {},
   "outputs": [
    {
     "name": "stdout",
     "output_type": "stream",
     "text": [
      "{'name': 'Alice', 'age': 26, 'city': 'New York', 'country': 'USA'}\n"
     ]
    }
   ],
   "source": [
    "my_dict = {\"name\": \"Alice\", \"age\": 25}\n",
    "my_dict.update({\"city\": \"New York\", \"age\": 26, \"country\": \"USA\"})\n",
    "print(my_dict) \n"
   ]
  },
  {
   "cell_type": "markdown",
   "metadata": {},
   "source": [
    "The clear() method removes all the key-value pairs from the dictionary, effectively emptying it.\n",
    "\n",
    "Syntax:\n",
    "dictionary.clear()\n",
    "\n",
    "The dictionary becomes empty after calling this method."
   ]
  },
  {
   "cell_type": "code",
   "execution_count": 14,
   "metadata": {},
   "outputs": [
    {
     "name": "stdout",
     "output_type": "stream",
     "text": [
      "{}\n"
     ]
    }
   ],
   "source": [
    "my_dict = {\"name\": \"Alice\", \"age\": 25}\n",
    "my_dict.clear()\n",
    "print(my_dict)  \n"
   ]
  },
  {
   "cell_type": "markdown",
   "metadata": {},
   "source": [
    "Dictionaries can store other dictionaries as values, making them useful for representing hierarchical data"
   ]
  },
  {
   "cell_type": "code",
   "execution_count": 21,
   "metadata": {},
   "outputs": [
    {
     "name": "stdout",
     "output_type": "stream",
     "text": [
      "{'name': 'John', 'subjects': {'Math': 90, 'Science': 85, 'English': 88}}\n",
      "{'Math': 90, 'Science': 85, 'English': 88}\n",
      "90\n"
     ]
    }
   ],
   "source": [
    "student = {\n",
    "    \"name\": \"John\",\n",
    "    \"subjects\": {\n",
    "        \"Math\": 90,\n",
    "        \"Science\": 85,\n",
    "        \"English\": 88\n",
    "    }\n",
    "}\n",
    "print(student)  # Print the entire dictionary\n",
    "print(student[\"subjects\"])  # Access nested value\n",
    "print(student[\"subjects\"][\"Math\"])  # Access a specific nested value\n",
    "# print(student['English'])  # Access a specific nested value\n"
   ]
  },
  {
   "cell_type": "markdown",
   "metadata": {},
   "source": [
    "# **Set**"
   ]
  },
  {
   "cell_type": "markdown",
   "metadata": {},
   "source": [
    "A set in Python is an unordered collection of unique elements. Sets are used when we only need unique items without duplicates."
   ]
  },
  {
   "cell_type": "code",
   "execution_count": 22,
   "metadata": {},
   "outputs": [
    {
     "name": "stdout",
     "output_type": "stream",
     "text": [
      "{1, 2, 3, 4}\n",
      "[1, 2, 3, 4, 4]\n"
     ]
    }
   ],
   "source": [
    "my_set = {1, 2, 3, 4, 4,4,4}\n",
    "print(my_set)  # Output: {1, 2, 3, 4}\n",
    "\n",
    "l = [1, 2, 3, 4, 4]\n",
    "print(l) \n"
   ]
  },
  {
   "cell_type": "markdown",
   "metadata": {},
   "source": [
    "Sets are unordered, meaning there’s no guaranteed order of elements. They also don’t support indexing."
   ]
  },
  {
   "cell_type": "code",
   "execution_count": 23,
   "metadata": {},
   "outputs": [
    {
     "name": "stdout",
     "output_type": "stream",
     "text": [
      "{1, 2, 4, 5}\n",
      "4\n"
     ]
    }
   ],
   "source": [
    "my_set.add(5)      # Add element\n",
    "my_set.remove(3)   # Remove element\n",
    "print(my_set)\n",
    "\n",
    "# Length of set\n",
    "print(len(my_set))\n"
   ]
  },
  {
   "cell_type": "markdown",
   "metadata": {},
   "source": [
    "Sets support mathematical operations like union and intersection etc.\n",
    "\n",
    "Union (union())\\\n",
    "Purpose: Combines all elements from both sets, removing any duplicates.\\\n",
    "Syntax: set1.union(set2) or set1 | set2\n"
   ]
  },
  {
   "cell_type": "code",
   "execution_count": 24,
   "metadata": {},
   "outputs": [
    {
     "name": "stdout",
     "output_type": "stream",
     "text": [
      "{1, 2, 3, 4, 5}\n"
     ]
    }
   ],
   "source": [
    "set1 = {1, 2, 3}\n",
    "set2 = {3, 4, 5}\n",
    "print(set1|set2)  \n"
   ]
  },
  {
   "cell_type": "markdown",
   "metadata": {},
   "source": [
    "Intersection (intersection())\\\n",
    "Purpose: Returns only the elements that are present in both sets.\\\n",
    "Syntax: set1.intersection(set2) or set1 & set2"
   ]
  },
  {
   "cell_type": "code",
   "execution_count": 25,
   "metadata": {},
   "outputs": [
    {
     "name": "stdout",
     "output_type": "stream",
     "text": [
      "{3}\n"
     ]
    }
   ],
   "source": [
    "set1 = {1, 2, 3}\n",
    "set2 = {3, 4, 5}\n",
    "print(set1&set2) \n"
   ]
  },
  {
   "cell_type": "markdown",
   "metadata": {},
   "source": [
    "Difference (difference())\\\n",
    "Purpose: Returns the elements that are present in the first set but not in the second.\\\n",
    "Syntax: set1.difference(set2) or set1 - set2"
   ]
  },
  {
   "cell_type": "code",
   "execution_count": 27,
   "metadata": {},
   "outputs": [
    {
     "name": "stdout",
     "output_type": "stream",
     "text": [
      "{1, 2}\n"
     ]
    }
   ],
   "source": [
    "set1 = {1, 2, 3}\n",
    "set2 = {3, 4, 5}\n",
    "print(set1-set2)\n"
   ]
  },
  {
   "cell_type": "markdown",
   "metadata": {},
   "source": [
    "Symmetric Difference (symmetric_difference())\\\n",
    "Purpose: Returns the elements that are in either set, but not in both.\\\n",
    "Syntax: set1.symmetric_difference(set2) or set1 ^ set2"
   ]
  },
  {
   "cell_type": "code",
   "execution_count": 28,
   "metadata": {},
   "outputs": [
    {
     "name": "stdout",
     "output_type": "stream",
     "text": [
      "{1, 2, 4, 5}\n"
     ]
    }
   ],
   "source": [
    "set1 = {1, 2, 3}\n",
    "set2 = {3, 4, 5}\n",
    "print(set1.symmetric_difference(set2))  \n"
   ]
  },
  {
   "cell_type": "markdown",
   "metadata": {},
   "source": [
    "Add (add())\\\n",
    "Purpose: Adds a single element to the set. If the element already exists, it doesn't add it again\\\n",
    "Syntax: set.add(element)"
   ]
  },
  {
   "cell_type": "code",
   "execution_count": 29,
   "metadata": {},
   "outputs": [
    {
     "name": "stdout",
     "output_type": "stream",
     "text": [
      "{1, 2, 3, 4}\n"
     ]
    }
   ],
   "source": [
    "set1 = {1, 2, 3}\n",
    "set1.add(4)  # Adds 4 to set1\n",
    "set1.add(2)  # Does not add 2 because it is already in the set\n",
    "print(set1) \n"
   ]
  },
  {
   "cell_type": "markdown",
   "metadata": {},
   "source": [
    "Remove (remove())\\\n",
    "Purpose: Removes a specified element from the set. If the element is not present, it raises a KeyError.\\\n",
    "Syntax: set.remove(element)"
   ]
  },
  {
   "cell_type": "code",
   "execution_count": 30,
   "metadata": {},
   "outputs": [
    {
     "name": "stdout",
     "output_type": "stream",
     "text": [
      "{1, 3}\n"
     ]
    }
   ],
   "source": [
    "set1 = {1, 2, 3}\n",
    "set1.remove(2)  \n",
    "print(set1) \n"
   ]
  },
  {
   "cell_type": "markdown",
   "metadata": {},
   "source": [
    "Clear (clear())\\\n",
    "Purpose: Removes all elements from the set, making it empty.\\\n",
    "Syntax: set.clear()"
   ]
  },
  {
   "cell_type": "code",
   "execution_count": 31,
   "metadata": {},
   "outputs": [
    {
     "name": "stdout",
     "output_type": "stream",
     "text": [
      "set()\n"
     ]
    }
   ],
   "source": [
    "set1 = {1, 2, 3}\n",
    "set1.clear()  # Clears all elements from the set\n",
    "print(set1)  "
   ]
  },
  {
   "cell_type": "code",
   "execution_count": 32,
   "metadata": {},
   "outputs": [
    {
     "name": "stdout",
     "output_type": "stream",
     "text": [
      "{2, 3}\n",
      "{3}\n"
     ]
    }
   ],
   "source": [
    "set1 = {1, 2, 3}\n",
    "set1.pop()\n",
    "print(set1) \n",
    "set1.pop()\n",
    "print(set1)"
   ]
  }
 ],
 "metadata": {
  "kernelspec": {
   "display_name": "Python 3",
   "language": "python",
   "name": "python3"
  },
  "language_info": {
   "codemirror_mode": {
    "name": "ipython",
    "version": 3
   },
   "file_extension": ".py",
   "mimetype": "text/x-python",
   "name": "python",
   "nbconvert_exporter": "python",
   "pygments_lexer": "ipython3",
   "version": "3.13.2"
  }
 },
 "nbformat": 4,
 "nbformat_minor": 2
}
