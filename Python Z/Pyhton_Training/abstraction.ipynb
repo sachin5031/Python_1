{
 "cells": [
  {
   "cell_type": "markdown",
   "metadata": {},
   "source": [
    "### **Abstraction**\n",
    "\n",
    "**Abstraction** is one of the fundamental principles of object-oriented programming (OOP). It focuses on **hiding implementation details** and showing only the essential features of an object to the user. \n",
    "\n",
    "In simple terms, abstraction allows you to define a blueprint or a general structure without worrying about how the specific functionality is implemented. \n",
    "\n",
    "---\n",
    "\n",
    "### **Key Features of Abstraction**\n",
    "1. **Hiding Complexity**:\n",
    "   - Users interact with the system without needing to understand the internal implementation.\n",
    "   - Example: When you drive a car, you only need to know how to operate the steering wheel, accelerator, and brake. You don’t need to know how the engine works.\n",
    "\n",
    "2. **Providing Simplicity**:\n",
    "   - Abstraction simplifies complex systems by breaking them into smaller, more manageable parts.\n",
    "\n",
    "3. **Promoting Reusability**:\n",
    "   - Abstract classes and methods can be reused across multiple implementations, making your code more modular.\n",
    "\n",
    "4. **Ensuring Focus on What’s Important**:\n",
    "   - It ensures that users focus on the **what** (functionality) rather than the **how** (implementation).\n",
    "\n",
    "---\n",
    "\n",
    "### **Abstraction in Python**\n",
    "In Python, abstraction is implemented using:\n",
    "1. **Abstract Classes**: Defined using the `ABC` (Abstract Base Class) module.\n",
    "2. **Abstract Methods**: Defined using the `@abstractmethod` decorator. These methods have no implementation in the abstract class and must be implemented in subclasses.\n",
    "\n",
    "---\n",
    "\n",
    "### **Example**\n",
    "Here’s a simple example of abstraction using abstract classes and methods:\n",
    "\n"
   ]
  },
  {
   "cell_type": "code",
   "execution_count": 2,
   "metadata": {},
   "outputs": [
    {
     "name": "stdout",
     "output_type": "stream",
     "text": [
      "Car engine started.\n",
      "Car engine stopped.\n",
      "Bike engine started.\n",
      "Bike engine stopped.\n"
     ]
    }
   ],
   "source": [
    "from abc import ABC, abstractmethod\n",
    "\n",
    "# Abstract class\n",
    "class Vehicle(ABC):\n",
    "    @abstractmethod\n",
    "    def start(self):\n",
    "        pass  # Abstract method\n",
    "\n",
    "    @abstractmethod\n",
    "    def stop(self):\n",
    "        pass  # Abstract method\n",
    "\n",
    "# Subclass implementing the abstract class\n",
    "class Car(Vehicle):\n",
    "    def start(self):\n",
    "        return \"Car engine started.\"\n",
    "\n",
    "    def stop(self):\n",
    "        return \"Car engine stopped.\"\n",
    "\n",
    "# Another subclass implementing the abstract class\n",
    "class Bike(Vehicle):\n",
    "    def start(self):\n",
    "        return \"Bike engine started.\"\n",
    "\n",
    "    def stop(self):\n",
    "        return \"Bike engine stopped.\"\n",
    "\n",
    "# Create instances of the subclasses\n",
    "car = Car()\n",
    "bike = Bike()\n",
    "\n",
    "# Call methods\n",
    "print(car.start())  \n",
    "print(car.stop())   \n",
    "print(bike.start())  \n",
    "print(bike.stop())  \n",
    "\n"
   ]
  }
 ],
 "metadata": {
  "kernelspec": {
   "display_name": "Python 3",
   "language": "python",
   "name": "python3"
  },
  "language_info": {
   "codemirror_mode": {
    "name": "ipython",
    "version": 3
   },
   "file_extension": ".py",
   "mimetype": "text/x-python",
   "name": "python",
   "nbconvert_exporter": "python",
   "pygments_lexer": "ipython3",
   "version": "3.12.6"
  }
 },
 "nbformat": 4,
 "nbformat_minor": 2
}
