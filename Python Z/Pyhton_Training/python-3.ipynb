{
 "cells": [
  {
   "cell_type": "markdown",
   "metadata": {},
   "source": [
    "### Strings"
   ]
  },
  {
   "cell_type": "code",
   "execution_count": null,
   "metadata": {},
   "outputs": [],
   "source": [
    "str1='helloworld'\n",
    "str2= \"hello world\"\n",
    "str3= '''welcome to python training.\n",
    "in this we will learn about string'''\n",
    "\n",
    "print(str1)\n",
    "print(str2)\n",
    "print(str3)"
   ]
  },
  {
   "cell_type": "markdown",
   "metadata": {},
   "source": [
    "escape sequence"
   ]
  },
  {
   "cell_type": "code",
   "execution_count": null,
   "metadata": {},
   "outputs": [],
   "source": [
    "str3= ' welcome to python training. \\nIn this we will learn about string'   #new line\n",
    "\n",
    "str2= 'hello\\tworld'   #tab\n",
    "\n",
    "\n",
    "print(str3)\n",
    "print(str2)"
   ]
  },
  {
   "cell_type": "markdown",
   "metadata": {},
   "source": [
    " String Concatenation\n",
    "\n",
    " Using the + Operator\n",
    " String concatenation is the process of joining two or more strings together.\n",
    "\n"
   ]
  },
  {
   "cell_type": "code",
   "execution_count": 52,
   "metadata": {},
   "outputs": [
    {
     "name": "stdout",
     "output_type": "stream",
     "text": [
      "Hello,World!\n"
     ]
    }
   ],
   "source": [
    "string1 = \"Hello,\"\n",
    "string2 = \"World!\"\n",
    "result = string1 + string2 \n",
    "print(result) "
   ]
  },
  {
   "cell_type": "markdown",
   "metadata": {},
   "source": [
    "String Multiplication\n",
    "\n",
    "Repeating Strings Using the * Operator\n",
    "String multiplication allows you to repeat a string multiple times.\n"
   ]
  },
  {
   "cell_type": "code",
   "execution_count": null,
   "metadata": {},
   "outputs": [],
   "source": [
    "\n",
    "string = \"Python\"\n",
    "result = string * 5\n",
    "print(result) "
   ]
  },
  {
   "cell_type": "markdown",
   "metadata": {},
   "source": [
    "## Formated string\n",
    "\n",
    "a more advanced way to handle strings where you can dynamically insert variables and expressions directly into a string. This is called string formatting. \n",
    "\n",
    "f\"Some text {variable}\"\n"
   ]
  },
  {
   "cell_type": "code",
   "execution_count": 21,
   "metadata": {},
   "outputs": [
    {
     "name": "stdout",
     "output_type": "stream",
     "text": [
      "my name is Alice and i am 25\n",
      "My name is Alice and I am 25 years old.\n"
     ]
    }
   ],
   "source": [
    "name = \"Alice\"\n",
    "age = 25\n",
    "\n",
    "print('my name is',name,'and i am', age)\n",
    "\n",
    "\n",
    "formatted_string = f\"My name is {name} and I am {age} years old.\"\n",
    "print(formatted_string)\n"
   ]
  },
  {
   "cell_type": "code",
   "execution_count": 22,
   "metadata": {},
   "outputs": [
    {
     "name": "stdout",
     "output_type": "stream",
     "text": [
      "The sum of 1 and 2 is 3 .\n"
     ]
    }
   ],
   "source": [
    "n1=1\n",
    "n2=2\n",
    "\n",
    "print(f\"The sum of {n1} and {n2} is {n1 + n2} .\")"
   ]
  },
  {
   "cell_type": "markdown",
   "metadata": {},
   "source": [
    "###  Common String Methods\n"
   ]
  },
  {
   "cell_type": "markdown",
   "metadata": {},
   "source": [
    "#### Finding the Length of a String with len()\n",
    "The len() function returns the number of characters in a string.\n",
    "\n",
    "\n"
   ]
  },
  {
   "cell_type": "code",
   "execution_count": 26,
   "metadata": {},
   "outputs": [
    {
     "name": "stdout",
     "output_type": "stream",
     "text": [
      "12\n",
      "12\n"
     ]
    }
   ],
   "source": [
    "string = \"Hello, World\"\n",
    "length = len(string)\n",
    "print(length)\n",
    "print(len(string))"
   ]
  },
  {
   "cell_type": "markdown",
   "metadata": {},
   "source": [
    "#### Changing Case with lower() and upper()\n",
    "The lower() and upper() methods are used to convert a string to lowercase and uppercase, respectively.\n",
    "\n"
   ]
  },
  {
   "cell_type": "code",
   "execution_count": 27,
   "metadata": {},
   "outputs": [
    {
     "name": "stdout",
     "output_type": "stream",
     "text": [
      "hello, world!\n",
      "HELLO, WORLD!\n",
      "Hello, world!\n"
     ]
    }
   ],
   "source": [
    "string = \"Hello, World!\"\n",
    "lowercase_string = string.lower()\n",
    "uppercase_string = string.upper()\n",
    "cap_string= string.capitalize()\n",
    "print(lowercase_string)  \n",
    "print(uppercase_string) \n",
    "print(cap_string)\n"
   ]
  },
  {
   "cell_type": "markdown",
   "metadata": {},
   "source": [
    "#### Checking Case with islower() and isupper()\n",
    "The islower() and isupper() methods are used to check a string's  case, respectively.\n",
    "\n"
   ]
  },
  {
   "cell_type": "code",
   "execution_count": null,
   "metadata": {},
   "outputs": [
    {
     "name": "stdout",
     "output_type": "stream",
     "text": [
      "False\n",
      "False\n"
     ]
    }
   ],
   "source": [
    "string = \"hello, world!\"\n",
    "str=\"HELLO WORLD\"\n",
    "lowercase_string = str.islower()\n",
    "uppercase_string = string.isupper()\n",
    "print(lowercase_string)  \n",
    "print(uppercase_string) "
   ]
  },
  {
   "cell_type": "markdown",
   "metadata": {},
   "source": [
    "#### Removing Whitespace with strip()\n",
    "The strip() method removes any leading and trailing whitespace from a string.\n"
   ]
  },
  {
   "cell_type": "code",
   "execution_count": 29,
   "metadata": {},
   "outputs": [
    {
     "name": "stdout",
     "output_type": "stream",
     "text": [
      "Hello, World!\n"
     ]
    }
   ],
   "source": [
    "string = \"   Hello, World!   \"\n",
    "stripped_string = string.strip()\n",
    "print(stripped_string) "
   ]
  },
  {
   "cell_type": "markdown",
   "metadata": {},
   "source": [
    "#### Splitting a String into a List with split()\n",
    "The split() method splits a string into a list of substrings based on a specified delimiter. \\\n",
    "syntax: \\\n",
    "string.split(separator, maxsplit)\n"
   ]
  },
  {
   "cell_type": "code",
   "execution_count": 34,
   "metadata": {},
   "outputs": [
    {
     "name": "stdout",
     "output_type": "stream",
     "text": [
      "['Welcome', 'to', 'Python programming']\n"
     ]
    }
   ],
   "source": [
    "string = \"Welcome to Python programming\"\n",
    "list_of_words = string.split(\" \",2)\n",
    "print(list_of_words)  \n"
   ]
  },
  {
   "cell_type": "markdown",
   "metadata": {},
   "source": [
    "### count()\n",
    "The count() method returns the number of non-overlapping occurrences of a substring in the string"
   ]
  },
  {
   "cell_type": "code",
   "execution_count": 35,
   "metadata": {},
   "outputs": [
    {
     "name": "stdout",
     "output_type": "stream",
     "text": [
      "4\n"
     ]
    }
   ],
   "source": [
    "text = \"Hello, World! Hello, Python!\"\n",
    "count_hello = text.count(\"o\")\n",
    "print(count_hello)"
   ]
  },
  {
   "cell_type": "markdown",
   "metadata": {},
   "source": [
    "### find()\n",
    "The find() method searches for the first occurrence of a specified substring and returns the index of the first character of the substring"
   ]
  },
  {
   "cell_type": "code",
   "execution_count": 38,
   "metadata": {},
   "outputs": [
    {
     "name": "stdout",
     "output_type": "stream",
     "text": [
      "7\n"
     ]
    }
   ],
   "source": [
    "text = \"Hello, World! Hello, Python!\"\n",
    "index_world = text.find(\"World\")\n",
    "print(index_world)"
   ]
  },
  {
   "cell_type": "markdown",
   "metadata": {},
   "source": [
    "###  String Indexing and Slicing\n",
    "\n",
    "#### Accessing Characters Using Indexes\n",
    "You can access individual characters in a string using their index.\n",
    "\n",
    "\n"
   ]
  },
  {
   "cell_type": "code",
   "execution_count": 41,
   "metadata": {},
   "outputs": [
    {
     "name": "stdout",
     "output_type": "stream",
     "text": [
      "o\n",
      "n\n"
     ]
    }
   ],
   "source": [
    "string = \"Python\"\n",
    "first_char = string[4]\n",
    "last_char = string[-1]\n",
    "print(first_char) \n",
    "print(last_char)"
   ]
  },
  {
   "cell_type": "markdown",
   "metadata": {},
   "source": [
    "#### Slicing Strings\n",
    "You can extract a substring from a string using slicing.\n",
    "\n",
    "[start:stop:step]"
   ]
  },
  {
   "cell_type": "code",
   "execution_count": null,
   "metadata": {},
   "outputs": [
    {
     "name": "stdout",
     "output_type": "stream",
     "text": [
      "hello\n",
      "hel\n",
      "loworld\n",
      "hlool\n",
      "wo\n"
     ]
    }
   ],
   "source": [
    "string = \"helloworld\"\n",
    "slice1 = string[0:5]  # Slices from index 1 to 3 (4 is exclusive)\n",
    "slice2 = string[:3]   # Slices from the beginning to index 2 (3 is exclusive)\n",
    "slice3 = string[3:]   # Slices from index 3 to the end\n",
    "slice4 = string[0::2]  #slices every second character\n",
    "slice5 = string[-5:-3] #n -5 to -3 (exclusive)\n",
    "\n",
    "print(slice1)  \n",
    "print(slice2)  \n",
    "print(slice3)\n",
    "print(slice4)  \n",
    "print(slice5)\n"
   ]
  }
 ],
 "metadata": {
  "kernelspec": {
   "display_name": "Python 3",
   "language": "python",
   "name": "python3"
  },
  "language_info": {
   "codemirror_mode": {
    "name": "ipython",
    "version": 3
   },
   "file_extension": ".py",
   "mimetype": "text/x-python",
   "name": "python",
   "nbconvert_exporter": "python",
   "pygments_lexer": "ipython3",
   "version": "3.13.2"
  }
 },
 "nbformat": 4,
 "nbformat_minor": 2
}
