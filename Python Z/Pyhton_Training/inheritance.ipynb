{
 "cells": [
  {
   "cell_type": "markdown",
   "metadata": {},
   "source": [
    "# Inheritance \n",
    "\n",
    "Inheritance is the mechanism by which one class can inherit attributes and methods from another class. This helps you reuse code and build upon existing functionality. \n",
    "\n",
    " Inheritance allows us to create new classes that are based on existing ones. \\\n",
    " It helps us reuse code and extend the behavior of existing classes. \\\n",
    "  A child class can inherit attributes and methods from a parent class, and even add or modify its own."
   ]
  },
  {
   "cell_type": "markdown",
   "metadata": {},
   "source": [
    " there are several types of inheritance, each serving different purposes. Here are the types of inheritance, with examples and explanations for each."
   ]
  },
  {
   "cell_type": "markdown",
   "metadata": {},
   "source": [
    "## Single Inheritance\n",
    "\n",
    "In single inheritance, a child class inherits from only one parent class. This is the simplest form of inheritance, where the child class gets the attributes and methods of a single parent class."
   ]
  },
  {
   "cell_type": "code",
   "execution_count": 3,
   "metadata": {},
   "outputs": [
    {
     "name": "stdout",
     "output_type": "stream",
     "text": [
      "Buddy barks\n",
      "Kitty makes a sound\n"
     ]
    }
   ],
   "source": [
    "class Animal:\n",
    "    def __init__(self, name):\n",
    "        self.name = name\n",
    "\n",
    "    def speak(self):\n",
    "        print(f\"{self.name} makes a sound\")\n",
    "\n",
    "class Dog(Animal):\n",
    "    def speak(self):\n",
    "        print(f\"{self.name} barks\")\n",
    "\n",
    "# Creating object of Dog (child class)\n",
    "dog = Dog(\"Buddy\")\n",
    "dog.speak()  \n",
    "\n",
    "cat= Animal(\"Kitty\")\n",
    "cat.speak()\n"
   ]
  },
  {
   "cell_type": "markdown",
   "metadata": {},
   "source": [
    "## Multiple Inheritance\n",
    "\n",
    "In multiple inheritance, a child class inherits from more than one parent class. This allows the child class to access methods and attributes from all the parent classes."
   ]
  },
  {
   "cell_type": "code",
   "execution_count": null,
   "metadata": {},
   "outputs": [],
   "source": [
    "class Animal:\n",
    "    def speak(self):\n",
    "        print(\"Animal makes a sound\")\n",
    "\n",
    "class Mammal:\n",
    "    def walk(self):\n",
    "        print(\"Mammal walks\")\n",
    "\n",
    "class Dog(Animal, Mammal):\n",
    "    def speak(self):\n",
    "        print(\"Dog barks\")\n",
    "\n",
    "# Creating object of Dog (child class)\n",
    "dog = Dog()\n",
    "\n",
    "dog.speak() \n",
    " \n",
    "dog.walk()  "
   ]
  },
  {
   "cell_type": "markdown",
   "metadata": {},
   "source": [
    "## Multilevel Inheritance\n",
    "\n",
    "In multilevel inheritance, a child class inherits from a parent class, and another class inherits from that child class. This creates a chain of inheritance"
   ]
  },
  {
   "cell_type": "code",
   "execution_count": 5,
   "metadata": {},
   "outputs": [
    {
     "name": "stdout",
     "output_type": "stream",
     "text": [
      "Dog barks\n",
      "Mammal walks\n",
      "Animal makes a sound\n",
      "Mammal walks\n"
     ]
    }
   ],
   "source": [
    "class Animal:\n",
    "    def speak(self):\n",
    "        print(\"Animal makes a sound\")\n",
    "\n",
    "class Mammal(Animal):\n",
    "    def walk(self):\n",
    "        print(\"Mammal walks\")\n",
    "\n",
    "class Dog(Mammal):\n",
    "    def speak(self):\n",
    "        print(\"Dog barks\")\n",
    "\n",
    "# Creating object of Dog (grandchild class)\n",
    "dog = Dog()\n",
    "\n",
    "dog.speak() \n",
    "\n",
    "dog.walk()   \n",
    "\n",
    "mammal = Mammal()\n",
    "\n",
    "mammal.speak()\n",
    "\n",
    "mammal.walk()"
   ]
  },
  {
   "cell_type": "markdown",
   "metadata": {},
   "source": [
    "## Hierarchical Inheritance\n",
    "\n",
    "In hierarchical inheritance, multiple child classes inherit from a single parent class. This allows different classes to share the same functionality from the parent class."
   ]
  },
  {
   "cell_type": "code",
   "execution_count": null,
   "metadata": {},
   "outputs": [],
   "source": [
    "class Animal:\n",
    "    def speak(self):\n",
    "        print(\"Animal makes a sound\")\n",
    "\n",
    "class Dog(Animal):\n",
    "    def speak(self):\n",
    "        print(\"Dog barks\")\n",
    "\n",
    "class Cat(Animal):\n",
    "    def speak(self):\n",
    "        print(\"Cat meows\")\n",
    "\n",
    "# Creating objects of child classes\n",
    "dog = Dog()\n",
    "cat = Cat()\n",
    "animal=Animal()\n",
    "\n",
    "dog.speak()  \n",
    "cat.speak()  \n",
    "animal.speak()"
   ]
  },
  {
   "cell_type": "markdown",
   "metadata": {},
   "source": [
    "## Hybrid Inheritance\n",
    "\n",
    "Hybrid inheritance is a combination of more than one type of inheritance. It typically involves a mix of multiple inheritance and multilevel inheritance, leading to complex hierarchies."
   ]
  },
  {
   "cell_type": "code",
   "execution_count": 6,
   "metadata": {},
   "outputs": [
    {
     "name": "stdout",
     "output_type": "stream",
     "text": [
      "Bat screeches\n",
      "Mammal walks\n",
      "Bird flies\n"
     ]
    }
   ],
   "source": [
    "class Animal:\n",
    "    def speak(self):\n",
    "        print(\"Animal makes a sound\")\n",
    "\n",
    "class Mammal(Animal):\n",
    "    def walk(self):\n",
    "        print(\"Mammal walks\")\n",
    "\n",
    "class Bird(Animal):\n",
    "    def fly(self):\n",
    "        print(\"Bird flies\")\n",
    "\n",
    "class Bat(Mammal, Bird):\n",
    "    def speak(self):\n",
    "        print(\"Bat screeches\")\n",
    "\n",
    "# Creating object of Bat (child class)\n",
    "bat = Bat()\n",
    "bat.speak()  \n",
    "bat.walk()   \n",
    "bat.fly()    \n"
   ]
  }
 ],
 "metadata": {
  "kernelspec": {
   "display_name": "Python 3",
   "language": "python",
   "name": "python3"
  },
  "language_info": {
   "codemirror_mode": {
    "name": "ipython",
    "version": 3
   },
   "file_extension": ".py",
   "mimetype": "text/x-python",
   "name": "python",
   "nbconvert_exporter": "python",
   "pygments_lexer": "ipython3",
   "version": "3.12.6"
  }
 },
 "nbformat": 4,
 "nbformat_minor": 2
}
