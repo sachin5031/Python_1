{
 "cells": [
  {
   "cell_type": "markdown",
   "metadata": {},
   "source": [
    "### Encapsulation in Python\n",
    "\n",
    "Encapsulation is one of the fundamental principles of object-oriented programming (OOP). It means **hiding the internal details (data) of an object and only exposing necessary parts (methods)** to the outside world. This ensures that data is accessed and modified in a controlled way, improving security and reducing complexity.\n",
    "\n",
    "---\n",
    "\n",
    "### Key Points About Encapsulation\n",
    "1. **Data Hiding**: Sensitive information in an object is hidden from direct access.\n",
    "2. **Control**: Access to data is provided through methods, often called **getters** and **setters**.\n",
    "3. **Private and Public Members**:\n",
    "   - **Public** members are accessible from anywhere.\n",
    "   - **Private** members are restricted and typically denoted with a single or double underscore (`_variable` or `__variable`).\n",
    "\n",
    "---"
   ]
  },
  {
   "cell_type": "code",
   "execution_count": null,
   "metadata": {},
   "outputs": [
    {
     "name": "stdout",
     "output_type": "stream",
     "text": [
      "Hari Baskaran\n",
      "5000\n",
      "Deposited 2000. New Balance: 7000\n",
      "Withdrawn 3000. New Balance: 4000\n"
     ]
    }
   ],
   "source": [
    "class BankAccount:\n",
    "    def __init__(self, account_holder, balance):\n",
    "        self.account_holder = account_holder  # Public attribute\n",
    "        self.__balance = balance  # Private attribute\n",
    "\n",
    "    # Public method to view balance (getter)\n",
    "    def get_balance(self):\n",
    "        return self.__balance\n",
    "\n",
    "    # Public method to update balance (setter)\n",
    "    def deposit(self, amount):\n",
    "        if amount > 0:\n",
    "            self.__balance += amount\n",
    "            print(f\"Deposited {amount}. New Balance: {self.__balance}\")\n",
    "        else:\n",
    "            print(\"Invalid deposit amount.\")\n",
    "\n",
    "    def withdraw(self, amount):\n",
    "        if 0 < amount <= self.__balance:\n",
    "            self.__balance -= amount\n",
    "            print(f\"Withdrawn {amount}. New Balance: {self.__balance}\")\n",
    "        else:\n",
    "            print(\"Invalid withdrawal amount or insufficient balance.\")\n",
    "\n",
    "# Using the BankAccount class\n",
    "account = BankAccount(\"Hari Baskaran\", 5000)\n",
    "\n",
    "# Accessing public attribute\n",
    "print(account.account_holder)\n",
    "# print(account.__balance)\n",
    "\n",
    "# Accessing private attribute directly (not allowed)\n",
    "#print(account.__balance)  # Raises an AttributeError\n",
    "\n",
    "# Accessing private data using public methods\n",
    "print(account.get_balance())\n",
    "\n",
    "# Modifying data through methods\n",
    "account.deposit(2000)\n",
    " \n",
    "account.withdraw(3000) \n"
   ]
  }
 ],
 "metadata": {
  "kernelspec": {
   "display_name": "Python 3",
   "language": "python",
   "name": "python3"
  },
  "language_info": {
   "codemirror_mode": {
    "name": "ipython",
    "version": 3
   },
   "file_extension": ".py",
   "mimetype": "text/x-python",
   "name": "python",
   "nbconvert_exporter": "python",
   "pygments_lexer": "ipython3",
   "version": "3.12.6"
  }
 },
 "nbformat": 4,
 "nbformat_minor": 2
}
