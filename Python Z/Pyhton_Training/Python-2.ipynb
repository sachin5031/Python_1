{
 "cells": [
  {
   "cell_type": "markdown",
   "metadata": {},
   "source": [
    "## Python Operators: \n",
    "Operators are used to perform operations on variables and values.\n",
    "\n",
    "Python divides the operators in the following groups:\n",
    "\n",
    "### Arithmetic operators\n",
    "### Assignment operators \n",
    "### Comparison operators \n",
    "### logical operators\n",
    "### Bitwise operators"
   ]
  },
  {
   "cell_type": "markdown",
   "metadata": {},
   "source": [
    "# Arithmetic operators\n",
    "\n",
    "Arithmetic operators are used to perform common mathematical operations"
   ]
  },
  {
   "cell_type": "code",
   "execution_count": null,
   "metadata": {},
   "outputs": [],
   "source": [
    "#addition:\n",
    "print(1+2)\n",
    "\n",
    "a=1\n",
    "b=4\n",
    "print(a+b)\n",
    "\n",
    "x=10\n",
    "y=20\n",
    "c=x+y\n",
    "print(\"Addition\",c)"
   ]
  },
  {
   "cell_type": "code",
   "execution_count": null,
   "metadata": {},
   "outputs": [],
   "source": [
    "#subtraction:\n",
    "\n",
    "print(2-1)\n",
    "\n",
    "a=5\n",
    "b=3\n",
    "print(a-b)\n",
    "\n",
    "x=20\n",
    "y=10    \n",
    "c=x-y\n",
    "print(\"Subtraction\",c)"
   ]
  },
  {
   "cell_type": "code",
   "execution_count": null,
   "metadata": {},
   "outputs": [],
   "source": [
    "#multiplication:\n",
    "\n",
    "print(2*2)\n",
    "\n",
    "a=3\n",
    "b=4\n",
    "print(a*b)"
   ]
  },
  {
   "cell_type": "code",
   "execution_count": null,
   "metadata": {},
   "outputs": [],
   "source": [
    "#division:\n",
    "\n",
    "print(5/2)\n",
    "\n",
    "a=4\n",
    "b=2\n",
    "print(a/b)"
   ]
  },
  {
   "cell_type": "code",
   "execution_count": null,
   "metadata": {},
   "outputs": [],
   "source": [
    "#floor-division\n",
    "#the floor division // rounds the result down to the nearest whole number\n",
    "\n",
    "x = 15\n",
    "y = 2  #quotient for 15/2 = 7.5\n",
    "\n",
    "print(x // y)"
   ]
  },
  {
   "cell_type": "code",
   "execution_count": null,
   "metadata": {},
   "outputs": [],
   "source": [
    "#modulus:\n",
    "\n",
    "print(4%5)\n",
    "\n",
    "a=4\n",
    "b=3\n",
    "print(a%b)"
   ]
  },
  {
   "cell_type": "code",
   "execution_count": null,
   "metadata": {},
   "outputs": [],
   "source": [
    "#exponent/ power:\n",
    "\n",
    "print(2**10)\n",
    "\n",
    "a=3\n",
    "b=2\n",
    "print(a**b)"
   ]
  },
  {
   "cell_type": "markdown",
   "metadata": {},
   "source": [
    "Assignment Operator"
   ]
  },
  {
   "cell_type": "code",
   "execution_count": null,
   "metadata": {},
   "outputs": [],
   "source": [
    "#Assignment operators\n",
    "#Assignment operators are used to assign values to variables:\n",
    "\n",
    "a=5\n",
    "print(a) #a=5\n",
    "\n",
    "a+=3 #a=a+3\n",
    "print(a) #a=6\n",
    "a-=3 # a=8-3 \n",
    "print(a)#a=5\n",
    "a*=2 # a=5*2\n",
    "print(a)\n",
    "a/=3 # a=10/3\n",
    "print(a)\n",
    "a//=1 # a=3//1\n",
    "print(a)\n",
    "a%=1 # a=0%1\n",
    "print(a)"
   ]
  },
  {
   "cell_type": "code",
   "execution_count": null,
   "metadata": {},
   "outputs": [],
   "source": [
    "#Comparison Operators\n",
    "#Comparison operators are used to compare two values:\n",
    "\n",
    "#equal\n",
    "\n",
    "x=3\n",
    "y=2\n",
    "print(x==y)\n",
    "\n",
    "x=3\n",
    "y=3\n",
    "print(x==y)"
   ]
  },
  {
   "cell_type": "code",
   "execution_count": null,
   "metadata": {},
   "outputs": [],
   "source": [
    "#not equal\n",
    "\n",
    "x=3\n",
    "y=2\n",
    "print(x!=y)\n",
    "\n",
    "x=3\n",
    "y=3\n",
    "print(x!=y)"
   ]
  },
  {
   "cell_type": "code",
   "execution_count": null,
   "metadata": {},
   "outputs": [],
   "source": [
    "#greater than\n",
    "\n",
    "x=3\n",
    "y=2\n",
    "print(x>y)\n",
    "\n",
    "x=2\n",
    "y=3\n",
    "print(x>y)"
   ]
  },
  {
   "cell_type": "code",
   "execution_count": null,
   "metadata": {},
   "outputs": [],
   "source": [
    "#lesser than\n",
    "\n",
    "x=3\n",
    "y=2\n",
    "print(x<y)\n",
    "\n",
    "x=2\n",
    "y=3\n",
    "print(x<y)"
   ]
  },
  {
   "cell_type": "code",
   "execution_count": null,
   "metadata": {},
   "outputs": [],
   "source": [
    "# greater than or equal\n",
    "\n",
    "x=3\n",
    "y=2\n",
    "print(x>=y)\n",
    "\n",
    "x=3\n",
    "y=3\n",
    "print(x>=y)"
   ]
  },
  {
   "cell_type": "code",
   "execution_count": null,
   "metadata": {},
   "outputs": [],
   "source": [
    "#lesser than or equal\n",
    "\n",
    "x=3\n",
    "y=2\n",
    "print(x<=y)\n",
    "\n",
    "x=3\n",
    "y=3\n",
    "print(x<=y)"
   ]
  },
  {
   "cell_type": "code",
   "execution_count": null,
   "metadata": {},
   "outputs": [],
   "source": [
    "#logical operator\n",
    "#Logical operators are used to combine conditional statements:\n",
    "\n",
    "#and-op\n",
    "x = 10\n",
    "print(x > 3 and x < 10) \n",
    "\n",
    "#or-op\n",
    "x = 2\n",
    "print(x > 3 or x < 4)\n",
    "\n",
    "\n",
    "#not-op\n",
    "x = 4\n",
    "print(not(x > 3 and x < 10))"
   ]
  },
  {
   "cell_type": "code",
   "execution_count": null,
   "metadata": {},
   "outputs": [],
   "source": [
    "#Bitwise Operators\n",
    "#Bitwise operators are used to compare (binary) numbers:\n",
    "\n",
    "\"\"\"\n",
    "Binary Numbers\n",
    "\n",
    "0= 0\n",
    "1= 1\n",
    "2= 10\n",
    "3= 11\n",
    "4= 100\n",
    "5= 101\n",
    "6= 110\n",
    "7= 111\n",
    "8= 1000\n",
    "9=1001\n",
    "10=1010\n",
    "11=1011\n",
    "12=1100\n",
    "\n",
    "\"\"\"\n",
    "\n",
    "\n",
    "#and-op\n",
    "print(1 & 2) #0001 0010 \n",
    "\"\"\"\n",
    "0001\n",
    "0010\n",
    "\"\"\"\n",
    "\n",
    "#or-op\n",
    "print(1 | 2)\n",
    "\n",
    "#xor-op\n",
    "print(1 ^ 4)\n",
    "\n",
    "#not-op\n",
    "print(~5) # 0101 = 1010\n",
    "\n",
    "#left-shift-op\n",
    "print(3 << 2) #000011 = 001100     n= 3, s = 2, F =n*2^s\n",
    "\n",
    "#right-shift-op\n",
    "print(5 >> 7) #00101 = 00001   n= 3, s = 2, F =n%2^s"
   ]
  },
  {
   "cell_type": "markdown",
   "metadata": {},
   "source": [
    "### Membership Operators\n",
    "\n",
    "Membership operators are used to test if a sequence contains a specific item. The two membership operators are in and not in.\n",
    "\n",
    "#### in Operator\n",
    "\n",
    "The in operator checks if an item is present in a sequence (like a list, tuple, string, etc.).\n",
    "\n"
   ]
  },
  {
   "cell_type": "code",
   "execution_count": null,
   "metadata": {},
   "outputs": [],
   "source": [
    "word = \"apple\"\n",
    "print('a' in word)"
   ]
  },
  {
   "cell_type": "markdown",
   "metadata": {},
   "source": [
    "#### not in Operator\n",
    "\n",
    "The not in operator checks if an item is not present in a sequence.\n",
    "\n"
   ]
  },
  {
   "cell_type": "code",
   "execution_count": null,
   "metadata": {},
   "outputs": [],
   "source": [
    "word = \"apple\"\n",
    "print('b' not in word)"
   ]
  },
  {
   "cell_type": "markdown",
   "metadata": {},
   "source": [
    "### Identity Operators\n",
    "\n",
    "Identity operators are used to compare the memory locations of two objects. The two identity operators are is and is not.\n",
    "\n",
    "#### is Operator\n",
    "\n",
    "The is operator checks if two variables refer to the same object in memory.\n",
    "\n"
   ]
  },
  {
   "cell_type": "code",
   "execution_count": null,
   "metadata": {},
   "outputs": [],
   "source": [
    "x = 4\n",
    "y = 5\n",
    "print(x is y)"
   ]
  },
  {
   "cell_type": "markdown",
   "metadata": {},
   "source": [
    "#### is not Operator\n",
    "\n",
    "The is not operator checks if two variables do not refer to the same object in memory.\n"
   ]
  },
  {
   "cell_type": "code",
   "execution_count": null,
   "metadata": {},
   "outputs": [],
   "source": [
    "x = 5\n",
    "y = 5\n",
    "print(x is not y)"
   ]
  },
  {
   "cell_type": "code",
   "execution_count": null,
   "metadata": {},
   "outputs": [],
   "source": [
    "#input statement in python\n",
    "\n",
    "name =input('enter your name:')\n",
    "a=22\n",
    "print(\"your name is\",name,a)"
   ]
  },
  {
   "cell_type": "code",
   "execution_count": null,
   "metadata": {},
   "outputs": [],
   "source": [
    "a=int(input('enter a number:'))\n",
    "b=int(input(\"enter a number:\"))\n",
    "print(\"sum of your integers is\",a+b)"
   ]
  }
 ],
 "metadata": {
  "kernelspec": {
   "display_name": "Python 3",
   "language": "python",
   "name": "python3"
  },
  "language_info": {
   "codemirror_mode": {
    "name": "ipython",
    "version": 3
   },
   "file_extension": ".py",
   "mimetype": "text/x-python",
   "name": "python",
   "nbconvert_exporter": "python",
   "pygments_lexer": "ipython3",
   "version": "3.13.2"
  }
 },
 "nbformat": 4,
 "nbformat_minor": 2
}
