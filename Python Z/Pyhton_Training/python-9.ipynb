{
 "cells": [
  {
   "cell_type": "markdown",
   "metadata": {},
   "source": [
    "# Python Functions"
   ]
  },
  {
   "cell_type": "markdown",
   "metadata": {},
   "source": [
    "##  Introduction to Functions\n",
    "\n",
    "**What is a Function?**  \n",
    "- _\"A function is a reusable block of code designed to perform a specific task. It eliminates redundancy, promotes modularity, and makes code easier to debug.\"_  \n",
    "\n",
    "**Uses of Functions:**  \n",
    "1. **Code Reusability:** Write once, use multiple times.  \n",
    "2. **Modularity:** Break programs into smaller, manageable parts.  \n",
    "3. **Error Reduction:** Centralized logic reduces mistakes.  \n",
    "\n",
    "**Types of Functions in Python:**  \n",
    "1. **Built-in Functions:** Predefined (e.g., `print()`, `len()`).  \n",
    "2. **User-defined Functions:** Written by programmers.  \n"
   ]
  },
  {
   "cell_type": "markdown",
   "metadata": {},
   "source": [
    "\n",
    "#### User-Defined Functions    \n",
    "\n",
    "**Syntax:**  \n",
    "``` \n",
    "def function_name(parameters):\n",
    "    # Code block\n",
    "    return result\n",
    "```"
   ]
  },
  {
   "cell_type": "code",
   "execution_count": 1,
   "metadata": {},
   "outputs": [
    {
     "name": "stdout",
     "output_type": "stream",
     "text": [
      "Hello, World!\n",
      "Hello, World!\n"
     ]
    }
   ],
   "source": [
    "def greet():\n",
    "    print(\"Hello, World!\")\n",
    "\n",
    "    \n",
    "greet() \n",
    "greet() # Output: Hello, World!\n"
   ]
  },
  {
   "cell_type": "markdown",
   "metadata": {},
   "source": [
    " #### Parameters and Arguments    \n",
    "\n",
    "**What Are Parameters and Arguments?**  \n",
    "- _\"Parameters are placeholders in a function definition, while arguments are actual values passed when calling the function.\"_  "
   ]
  },
  {
   "cell_type": "code",
   "execution_count": 12,
   "metadata": {},
   "outputs": [
    {
     "name": "stdout",
     "output_type": "stream",
     "text": [
      "Hello, Hari!\n",
      "Hello, dinesh!\n"
     ]
    }
   ],
   "source": [
    "def greet(name):  # 'name' is a parameter\n",
    "    print(f\"Hello, {name}!\")\n",
    "\n",
    "greet(\"Hari\")  # \"Hari\" is an argument\n",
    "greet(\"dinesh\")\n"
   ]
  },
  {
   "cell_type": "markdown",
   "metadata": {},
   "source": [
    "#### Positional and Keyword Arguments    \n",
    "\n",
    "**Positional Arguments:**  \n",
    "- _\"These are passed to the function in the same order as the parameters.\"_  "
   ]
  },
  {
   "cell_type": "code",
   "execution_count": 3,
   "metadata": {},
   "outputs": [
    {
     "name": "stdout",
     "output_type": "stream",
     "text": [
      "Name: Hari, Age: 25\n"
     ]
    }
   ],
   "source": [
    "def person_details(name, age):\n",
    "    print(f\"Name: {name}, Age: {age}\")\n",
    "\n",
    "person_details(\"Hari\", 25)  # Positional arguments"
   ]
  },
  {
   "cell_type": "markdown",
   "metadata": {},
   "source": [
    "**Keyword Arguments:**  \n",
    "- _\"These are passed with the parameter name, allowing you to change the order.\"_  "
   ]
  },
  {
   "cell_type": "code",
   "execution_count": 4,
   "metadata": {},
   "outputs": [
    {
     "name": "stdout",
     "output_type": "stream",
     "text": [
      "Name: Hari, Age: 25\n"
     ]
    }
   ],
   "source": [
    "\n",
    "person_details(age=25, name=\"Hari\")  # Keyword arguments"
   ]
  },
  {
   "cell_type": "markdown",
   "metadata": {},
   "source": [
    "\n",
    "#### Return Statement    \n",
    " \n",
    "_\"The `return` statement sends the result of a function back to the caller, making it reusable.\"_"
   ]
  },
  {
   "cell_type": "code",
   "execution_count": 2,
   "metadata": {},
   "outputs": [
    {
     "name": "stdout",
     "output_type": "stream",
     "text": [
      "25\n"
     ]
    }
   ],
   "source": [
    "def square(num):\n",
    "    return num ** 2\n",
    "\n",
    "#result = square(5)\n",
    "print(square(5))  # Output: Square: 25\n"
   ]
  },
  {
   "cell_type": "markdown",
   "metadata": {},
   "source": [
    "#### Recursion    \n",
    "\n",
    "**What is Recursion?**  \n",
    "- _\"Recursion is when a function calls itself to solve smaller instances of the same problem.\"_  \n"
   ]
  },
  {
   "cell_type": "markdown",
   "metadata": {},
   "source": [
    "**Key Concepts:**  \n",
    "1. **Base Case:** Stops the recursion.  \n",
    "2. **Recursive Case:** Function calls itself with modified input."
   ]
  },
  {
   "cell_type": "code",
   "execution_count": 13,
   "metadata": {},
   "outputs": [
    {
     "name": "stdout",
     "output_type": "stream",
     "text": [
      "10\n",
      "9\n",
      "8\n",
      "7\n",
      "6\n",
      "5\n",
      "4\n",
      "3\n",
      "2\n",
      "1\n",
      "Done!\n"
     ]
    }
   ],
   "source": [
    "def countdown(n):\n",
    "    if n == 0:  # Base case: stop the recursion when n is 0\n",
    "        print(\"Done!\")\n",
    "        return\n",
    "    print(n)\n",
    "    countdown(n - 1)  # Recursive call with n-1\n",
    "\n",
    "countdown(10)  \n"
   ]
  },
  {
   "cell_type": "markdown",
   "metadata": {},
   "source": [
    "#### Program Analysis"
   ]
  },
  {
   "cell_type": "code",
   "execution_count": 1,
   "metadata": {},
   "outputs": [
    {
     "name": "stdout",
     "output_type": "stream",
     "text": [
      "14\n"
     ]
    }
   ],
   "source": [
    "def s(a, b):\n",
    "    return a + b\n",
    "\n",
    "def do(x, y):\n",
    "    return s(x, y) * 2\n",
    "\n",
    "result = do(3, 4)\n",
    "print(result)\n"
   ]
  },
  {
   "cell_type": "code",
   "execution_count": 2,
   "metadata": {},
   "outputs": [
    {
     "name": "stdout",
     "output_type": "stream",
     "text": [
      "40\n"
     ]
    }
   ],
   "source": [
    "def m(a, b):\n",
    "    return a * b\n",
    "\n",
    "def d(x, y):\n",
    "    return m(x, y) * 2\n",
    "\n",
    "result = d(4, 5)\n",
    "print(result)\n"
   ]
  }
 ],
 "metadata": {
  "kernelspec": {
   "display_name": "Python 3",
   "language": "python",
   "name": "python3"
  },
  "language_info": {
   "codemirror_mode": {
    "name": "ipython",
    "version": 3
   },
   "file_extension": ".py",
   "mimetype": "text/x-python",
   "name": "python",
   "nbconvert_exporter": "python",
   "pygments_lexer": "ipython3",
   "version": "3.11.9"
  }
 },
 "nbformat": 4,
 "nbformat_minor": 2
}
