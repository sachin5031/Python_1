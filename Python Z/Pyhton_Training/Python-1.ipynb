{
 "cells": [
  {
   "cell_type": "markdown",
   "metadata": {},
   "source": [
    "# What is Python?\n",
    "\n",
    "Python is a high-level, interpreted programming language known for its readability and versatility.\n",
    "It emphasizes code readability and uses indentation (whitespace) to define code blocks.\n",
    "Python is widely used in web development, data analysis, scientific computing, artificial intelligence, and more.\n",
    "\n",
    "Key Features of Python:\n",
    "Easy to Learn and Read\n",
    "Free and Open Source\n",
    "supports multiple programming paradigms like procedure-oriented programming as well as object-oriented programming (OOP),etc.\n",
    "Cross-Platform\n",
    "\n",
    "Common Use Cases:\n",
    "Web development \n",
    "Data analysis \n",
    "Machine learning \n",
    "Scripting and automation\n",
    "Game development "
   ]
  },
  {
   "cell_type": "markdown",
   "metadata": {},
   "source": [
    "# Human -> High-Level Language -> Interpreter -> Machine Language -> Computer\n"
   ]
  },
  {
   "cell_type": "code",
   "execution_count": 10,
   "metadata": {},
   "outputs": [
    {
     "name": "stdout",
     "output_type": "stream",
     "text": [
      "2\n",
      "hello world\n",
      "humans's world\n",
      "hello 12\n",
      "Aravind\n",
      "Age: 25\n"
     ]
    }
   ],
   "source": [
    "# This is a comment. It won't run as code. \n",
    "# Printing a message to the screen\n",
    "\n",
    "print(2)\n",
    "print('hello world')\n",
    "\n",
    "print(\"humans's world\")\n",
    "\n",
    "print('hello', 12)\n",
    "\n",
    "#-------------------------------------------------------------------------------------------------------------------------\n",
    "\n",
    "# Variables store data\n",
    "n = \"Aravind\"  # A string (text) variable\n",
    "age = 25  # A number (integer) variable\n",
    "\n",
    "# Printing variables\n",
    "print(n)\n",
    "print(\"Age:\", age)\n"
   ]
  },
  {
   "cell_type": "code",
   "execution_count": null,
   "metadata": {},
   "outputs": [
    {
     "name": "stdout",
     "output_type": "stream",
     "text": [
      "30\n",
      "hari\n"
     ]
    }
   ],
   "source": [
    "#Python variables can be Re-assigned\n",
    "# it can be overwritten\n",
    "x=20\n",
    "x=30\n",
    "print(x)\n",
    "\n",
    "#python variables are case sensitive\n",
    "\n",
    "x=20\n",
    "x='hari'\n",
    "print(x)"
   ]
  },
  {
   "cell_type": "code",
   "execution_count": null,
   "metadata": {},
   "outputs": [
    {
     "name": "stdout",
     "output_type": "stream",
     "text": [
      "John\n",
      "John\n",
      "John\n",
      "John\n",
      "John\n",
      "John\n"
     ]
    }
   ],
   "source": [
    "#Legal variable names:\n",
    "\n",
    "myvar = \"John\"\n",
    "MYVAR= \"John\"\n",
    "my_var = \"John\"\n",
    "_my_var = \"John\"\n",
    "myVar = \"John\"\n",
    "MYvar=\"John\"\n",
    "myvar2 = \"John\"\n",
    "#Illegal variable names:\n",
    "# 2myvar = \"John\"  # Cannot start with a number\n",
    "# my-var = \"John\"  # Cannot contain hyphens\n",
    "# my var = \"John\"  # Cannot contain spaces\n",
    "\n",
    "print(myvar)\n",
    "print(MYVAR)\n",
    "print(my_var)\n",
    "print(_my_var)\n",
    "print(myvar2)\n",
    "print(MYvar)"
   ]
  },
  {
   "cell_type": "code",
   "execution_count": 27,
   "metadata": {},
   "outputs": [
    {
     "name": "stdout",
     "output_type": "stream",
     "text": [
      "['False', 'None', 'True', 'and', 'as', 'assert', 'async', 'await', 'break', 'class', 'continue', 'def', 'del', 'elif', 'else', 'except', 'finally', 'for', 'from', 'global', 'if', 'import', 'in', 'is', 'lambda', 'nonlocal', 'not', 'or', 'pass', 'raise', 'return', 'try', 'while', 'with', 'yield']\n"
     ]
    }
   ],
   "source": [
    "import keyword\n",
    "print(keyword.kwlist)\n"
   ]
  },
  {
   "cell_type": "code",
   "execution_count": null,
   "metadata": {},
   "outputs": [
    {
     "name": "stdout",
     "output_type": "stream",
     "text": [
      "Orange\n",
      "Banana\n",
      "Cherry\n"
     ]
    }
   ],
   "source": [
    "#Python allows you to assign values to multiple variables in one line:\n",
    "x, y, z = \"Orange\", \"Banana\", \"Cherry\"\n",
    "\n",
    "print(x)\n",
    "print(y)\n",
    "print(z)"
   ]
  },
  {
   "cell_type": "code",
   "execution_count": 33,
   "metadata": {},
   "outputs": [
    {
     "name": "stdout",
     "output_type": "stream",
     "text": [
      "Orange\n",
      "Orange\n",
      "Orange\n"
     ]
    }
   ],
   "source": [
    "#One Value to Multiple Variables\n",
    "x = y = z = \"Orange\"\n",
    "print(x)\n",
    "print(y)\n",
    "print(z)"
   ]
  },
  {
   "cell_type": "code",
   "execution_count": 45,
   "metadata": {},
   "outputs": [
    {
     "name": "stdout",
     "output_type": "stream",
     "text": [
      "alice\n",
      "alice's\n",
      "<class 'str'>\n"
     ]
    }
   ],
   "source": [
    "# String (str):\n",
    "#Represents textual data.\n",
    "print('alice')\n",
    "name = \"alice's\"\n",
    "print(name)\n",
    "print(type(name))"
   ]
  },
  {
   "cell_type": "code",
   "execution_count": 36,
   "metadata": {},
   "outputs": [
    {
     "name": "stdout",
     "output_type": "stream",
     "text": [
      "What is Bias? \n",
      "      •Error between average model prediction and ground truth \n",
      "      • The bias of the estimated function tells us the capacity of the underlying model to predict the values\n"
     ]
    }
   ],
   "source": [
    "#multi line string:\n",
    "\n",
    "print('''What is Bias? \n",
    "      •Error between average model prediction and ground truth \n",
    "      • The bias of the estimated function tells us the capacity of the underlying model to predict the values''')"
   ]
  },
  {
   "cell_type": "code",
   "execution_count": 38,
   "metadata": {},
   "outputs": [
    {
     "name": "stdout",
     "output_type": "stream",
     "text": [
      "25\n",
      "<class 'int'>\n"
     ]
    }
   ],
   "source": [
    "#Numeric Types:\tint, float\n",
    "#Integer (int):\n",
    "#Represents whole numbers.\n",
    "\n",
    "age = 25\n",
    "print(age)\n",
    "print(type(age))"
   ]
  },
  {
   "cell_type": "code",
   "execution_count": 40,
   "metadata": {},
   "outputs": [
    {
     "name": "stdout",
     "output_type": "stream",
     "text": [
      "12.999878787\n",
      "<class 'float'>\n"
     ]
    }
   ],
   "source": [
    "#Floating-Point (float):\n",
    "#Represents decimal numbers.\n",
    "\n",
    "price = 12.9998787870\n",
    "print(price)\n",
    "print(type(price))"
   ]
  },
  {
   "cell_type": "code",
   "execution_count": 48,
   "metadata": {},
   "outputs": [
    {
     "name": "stdout",
     "output_type": "stream",
     "text": [
      "True\n",
      "<class 'bool'>\n"
     ]
    }
   ],
   "source": [
    "#Boolean Type bool()):\n",
    "#Represents truth values (True or False).\n",
    "\n",
    "\n",
    "is_student = True\n",
    "is_teacher = False\n",
    "print(is_student)\n",
    "print(type(is_student))"
   ]
  },
  {
   "cell_type": "code",
   "execution_count": null,
   "metadata": {},
   "outputs": [
    {
     "name": "stdout",
     "output_type": "stream",
     "text": [
      "<class 'int'>\n",
      "5\n"
     ]
    }
   ],
   "source": [
    "#None (NoneType):\n",
    "#Represents absence of a value\n",
    "\n",
    "result = None\n",
    "print(type(result))\n",
    "print(result)"
   ]
  }
 ],
 "metadata": {
  "kernelspec": {
   "display_name": "Python 3",
   "language": "python",
   "name": "python3"
  },
  "language_info": {
   "codemirror_mode": {
    "name": "ipython",
    "version": 3
   },
   "file_extension": ".py",
   "mimetype": "text/x-python",
   "name": "python",
   "nbconvert_exporter": "python",
   "pygments_lexer": "ipython3",
   "version": "3.13.2"
  }
 },
 "nbformat": 4,
 "nbformat_minor": 2
}
