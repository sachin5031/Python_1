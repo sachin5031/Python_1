{
 "cells": [
  {
   "cell_type": "markdown",
   "metadata": {},
   "source": [
    "# Lists and Tuples in Python\n",
    "\n",
    "## Lists\n",
    "\n",
    "### What is a List?\n",
    "A list is a mutable, ordered collection of items. Lists are defined by enclosing elements in square brackets `[]`.\n"
   ]
  },
  {
   "cell_type": "code",
   "execution_count": 65,
   "metadata": {},
   "outputs": [
    {
     "name": "stdout",
     "output_type": "stream",
     "text": [
      "List: [1, 2, 3, 4, 5]\n"
     ]
    }
   ],
   "source": [
    "# Example of a list\n",
    "my_list = [1, 2, 3, 4, 5]\n",
    "print(\"List:\", my_list)\n",
    "\n"
   ]
  },
  {
   "cell_type": "code",
   "execution_count": null,
   "metadata": {},
   "outputs": [],
   "source": [
    "# Empty list\n",
    "task = []\n",
    "a = input(\"Enter the task to add: \")\n",
    "task.append(a)\n",
    "print(\"Task list:\", task)\n"
   ]
  },
  {
   "cell_type": "markdown",
   "metadata": {},
   "source": [
    "### Difference Between List and String\n",
    "- **Lists** are mutable, meaning their elements can be changed.\n",
    "- **Strings** are immutable, meaning once created, their elements cannot be changed.\n"
   ]
  },
  {
   "cell_type": "code",
   "execution_count": 66,
   "metadata": {},
   "outputs": [
    {
     "name": "stdout",
     "output_type": "stream",
     "text": [
      "Modified List: [10, 2, 3, 4, 5]\n"
     ]
    },
    {
     "ename": "TypeError",
     "evalue": "'str' object does not support item assignment",
     "output_type": "error",
     "traceback": [
      "\u001b[31m---------------------------------------------------------------------------\u001b[39m",
      "\u001b[31mTypeError\u001b[39m                                 Traceback (most recent call last)",
      "\u001b[36mCell\u001b[39m\u001b[36m \u001b[39m\u001b[32mIn[66]\u001b[39m\u001b[32m, line 7\u001b[39m\n\u001b[32m      5\u001b[39m \u001b[38;5;66;03m# Modifying a string (will raise an error)\u001b[39;00m\n\u001b[32m      6\u001b[39m my_string = \u001b[33m\"\u001b[39m\u001b[33mjello\u001b[39m\u001b[33m\"\u001b[39m\n\u001b[32m----> \u001b[39m\u001b[32m7\u001b[39m \u001b[43mmy_string\u001b[49m\u001b[43m[\u001b[49m\u001b[32;43m0\u001b[39;49m\u001b[43m]\u001b[49m = \u001b[33m\"\u001b[39m\u001b[33mh\u001b[39m\u001b[33m\"\u001b[39m  \u001b[38;5;66;03m# this line will raise a TypeError\u001b[39;00m\n",
      "\u001b[31mTypeError\u001b[39m: 'str' object does not support item assignment"
     ]
    }
   ],
   "source": [
    "# Modifying a list (valid operation)\n",
    "my_list[0] = 10\n",
    "print(\"Modified List:\", my_list)\n",
    "\n",
    "# Modifying a string (will raise an error)\n",
    "my_string = \"jello\"\n",
    "my_string[0] = \"h\"  # this line will raise a TypeError\n"
   ]
  },
  {
   "cell_type": "markdown",
   "metadata": {},
   "source": [
    "### List Slicing\n",
    "Slicing allows you to extract a subset of the list. The syntax is `list[start:end:step]`.\n"
   ]
  },
  {
   "cell_type": "code",
   "execution_count": null,
   "metadata": {},
   "outputs": [],
   "source": [
    "# Example of list slicing\n",
    "sliced_list = my_list[0:4]  # Extracts elements from index 1 to 3\n",
    "print(\"Sliced List:\", sliced_list)\n"
   ]
  },
  {
   "cell_type": "markdown",
   "metadata": {},
   "source": [
    "### List Methods\n",
    "Lists come with various built-in methods to perform operations like adding, removing, or sorting elements.\n",
    "\n",
    "#### `append()`\n",
    "Adds an element to the end of the list.\n"
   ]
  },
  {
   "cell_type": "code",
   "execution_count": 67,
   "metadata": {},
   "outputs": [
    {
     "name": "stdout",
     "output_type": "stream",
     "text": [
      "After append: [10, 2, 3, 4, 5, 6]\n"
     ]
    }
   ],
   "source": [
    "# Example of append() method\n",
    "my_list.append(6)\n",
    "print(\"After append:\", my_list)\n"
   ]
  },
  {
   "cell_type": "markdown",
   "metadata": {},
   "source": [
    "### Modification using index value"
   ]
  },
  {
   "cell_type": "code",
   "execution_count": null,
   "metadata": {},
   "outputs": [],
   "source": [
    "a=['h', 'e', 'l', 'l', 'o']\n",
    "a[4]='s'\n",
    "print(a)"
   ]
  },
  {
   "cell_type": "markdown",
   "metadata": {},
   "source": [
    "#### `remove()`\n",
    "Removes the first occurrence of the specified element.\n"
   ]
  },
  {
   "cell_type": "code",
   "execution_count": 68,
   "metadata": {},
   "outputs": [
    {
     "name": "stdout",
     "output_type": "stream",
     "text": [
      "After remove: [10, 2, 4, 5, 6]\n"
     ]
    }
   ],
   "source": [
    "# Example of remove() method\n",
    "my_list.remove(3)\n",
    "print(\"After remove:\", my_list)\n"
   ]
  },
  {
   "cell_type": "markdown",
   "metadata": {},
   "source": [
    "#### `pop()`\n",
    "Removes and returns the last element of the list.\n"
   ]
  },
  {
   "cell_type": "code",
   "execution_count": null,
   "metadata": {},
   "outputs": [
    {
     "name": "stdout",
     "output_type": "stream",
     "text": [
      "After pop: [10, 2, 4, 5] Popped Element: 6\n"
     ]
    }
   ],
   "source": [
    "# Example of pop() method\n",
    "popped_element = my_list.pop()\n",
    "print(\"After pop:\", my_list, \"Popped Element:\", popped_element)\n"
   ]
  },
  {
   "cell_type": "markdown",
   "metadata": {},
   "source": [
    "#### `sort()`\n",
    "Sorts the list in ascending order.\n"
   ]
  },
  {
   "cell_type": "code",
   "execution_count": 71,
   "metadata": {},
   "outputs": [
    {
     "name": "stdout",
     "output_type": "stream",
     "text": [
      "After sort: [2, 4, 5, 6, 14]\n"
     ]
    }
   ],
   "source": [
    "my_list[0]=14\n",
    "# Example of sort() method\n",
    "my_list.sort()\n",
    "print(\"After sort:\", my_list)\n"
   ]
  },
  {
   "cell_type": "markdown",
   "metadata": {},
   "source": [
    "#### `reverse()`\n",
    "Reverses the elements of the list.\n"
   ]
  },
  {
   "cell_type": "code",
   "execution_count": 72,
   "metadata": {},
   "outputs": [
    {
     "name": "stdout",
     "output_type": "stream",
     "text": [
      "After reverse: [14, 6, 5, 4, 2]\n"
     ]
    }
   ],
   "source": [
    "# Example of reverse() method\n",
    "my_list.reverse()\n",
    "print(\"After reverse:\", my_list)\n"
   ]
  },
  {
   "cell_type": "markdown",
   "metadata": {},
   "source": [
    "## Tuples\n",
    "\n",
    "### What is a Tuple?\n",
    "A tuple is an immutable, ordered collection of items. Tuples are defined by enclosing elements in parentheses `()`.\n"
   ]
  },
  {
   "cell_type": "code",
   "execution_count": 86,
   "metadata": {},
   "outputs": [
    {
     "name": "stdout",
     "output_type": "stream",
     "text": [
      "Tuple: (1, 2, 2, 3, 4, 5)\n"
     ]
    }
   ],
   "source": [
    "# Example of a tuple\n",
    "my_tuple = (1, 2,2, 3, 4, 5)\n",
    "print(\"Tuple:\", my_tuple)\n"
   ]
  },
  {
   "cell_type": "markdown",
   "metadata": {},
   "source": [
    "### Difference Between Tuple and List\n",
    "- **Tuples** are immutable, meaning their elements cannot be changed once assigned.\n",
    "- **Lists** are mutable, meaning their elements can be changed.\n"
   ]
  },
  {
   "cell_type": "code",
   "execution_count": 84,
   "metadata": {},
   "outputs": [
    {
     "ename": "TypeError",
     "evalue": "'tuple' object does not support item assignment",
     "output_type": "error",
     "traceback": [
      "\u001b[31m---------------------------------------------------------------------------\u001b[39m",
      "\u001b[31mTypeError\u001b[39m                                 Traceback (most recent call last)",
      "\u001b[36mCell\u001b[39m\u001b[36m \u001b[39m\u001b[32mIn[84]\u001b[39m\u001b[32m, line 2\u001b[39m\n\u001b[32m      1\u001b[39m \u001b[38;5;66;03m# # Modifying a tuple (will raise an error)\u001b[39;00m\n\u001b[32m----> \u001b[39m\u001b[32m2\u001b[39m \u001b[43mmy_tuple\u001b[49m\u001b[43m[\u001b[49m\u001b[32;43m0\u001b[39;49m\u001b[43m]\u001b[49m = \u001b[32m10\u001b[39m  \u001b[38;5;66;03m# this will raise a TypeError\u001b[39;00m\n",
      "\u001b[31mTypeError\u001b[39m: 'tuple' object does not support item assignment"
     ]
    }
   ],
   "source": [
    "# # Modifying a tuple (will raise an error)\n",
    "my_tuple[0] = 10  # this will raise a TypeError\n"
   ]
  },
  {
   "cell_type": "markdown",
   "metadata": {},
   "source": [
    "### Tuple Methods\n",
    "Tuples have fewer methods than lists due to their immutable nature.\n",
    "\n",
    "#### `count()`\n",
    "Returns the number of times the specified element appears in the tuple.\n"
   ]
  },
  {
   "cell_type": "code",
   "execution_count": 87,
   "metadata": {},
   "outputs": [
    {
     "name": "stdout",
     "output_type": "stream",
     "text": [
      "Count of 2 in tuple: 2\n"
     ]
    }
   ],
   "source": [
    "# Example of count() method\n",
    "count_2 = my_tuple.count(2)\n",
    "print(\"Count of 2 in tuple:\", count_2)\n"
   ]
  },
  {
   "cell_type": "markdown",
   "metadata": {},
   "source": [
    "#### `index()`\n",
    "Returns the index of the first occurrence of the specified element.\n"
   ]
  },
  {
   "cell_type": "code",
   "execution_count": 88,
   "metadata": {},
   "outputs": [
    {
     "name": "stdout",
     "output_type": "stream",
     "text": [
      "Index of 4 in tuple: 4\n"
     ]
    }
   ],
   "source": [
    "# Example of index() method\n",
    "index_4 = my_tuple.index(4)\n",
    "print(\"Index of 4 in tuple:\", index_4)\n"
   ]
  },
  {
   "cell_type": "markdown",
   "metadata": {},
   "source": [
    "### `len()` \n",
    "While not specifically a method for tuples, len() is a built-in function that returns the number of items (elements) in a tuple.\n",
    "Syntax:`len(tuple)`"
   ]
  },
  {
   "cell_type": "code",
   "execution_count": 90,
   "metadata": {},
   "outputs": [
    {
     "name": "stdout",
     "output_type": "stream",
     "text": [
      "4\n",
      "5\n"
     ]
    }
   ],
   "source": [
    "my_tuple = (1, 2, 3, 4)\n",
    "print(len(my_tuple)) \n",
    "l = [1, 2, 3, 4, 5]\n",
    "print(len(l))  # Output: 5\n"
   ]
  },
  {
   "cell_type": "markdown",
   "metadata": {},
   "source": [
    "### `sorted()`\n",
    "This built-in function returns a new list that is a sorted version of the tuple. It does not modify the tuple itself since tuples are immutable.\n",
    "Syntax: `sorted(tuple)`"
   ]
  },
  {
   "cell_type": "code",
   "execution_count": 104,
   "metadata": {},
   "outputs": [
    {
     "name": "stdout",
     "output_type": "stream",
     "text": [
      "[1, 3, 4, 5, 8, 21, 56]\n",
      "[1, 3, 4, 5, 8, 21, 56]\n"
     ]
    }
   ],
   "source": [
    "my_tuple = (5, 8, 1,56,21,4, 3)\n",
    "sorted_tuple = sorted(my_tuple)\n",
    "print(sorted_tuple)  # Output: [1, 3, 5, 8]\n",
    "\n",
    "l = [5, 8, 1,56,21,4, 3]\n",
    "l.sort()\n",
    "print(l)  # Output: [1, 3, 4, 5, 8, 21, 56]"
   ]
  }
 ],
 "metadata": {
  "kernelspec": {
   "display_name": "Python 3",
   "language": "python",
   "name": "python3"
  },
  "language_info": {
   "codemirror_mode": {
    "name": "ipython",
    "version": 3
   },
   "file_extension": ".py",
   "mimetype": "text/x-python",
   "name": "python",
   "nbconvert_exporter": "python",
   "pygments_lexer": "ipython3",
   "version": "3.13.2"
  }
 },
 "nbformat": 4,
 "nbformat_minor": 2
}
