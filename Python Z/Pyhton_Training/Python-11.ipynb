{
 "cells": [
  {
   "cell_type": "markdown",
   "metadata": {},
   "source": [
    "## **Introduction to OOP**\n",
    "\n",
    "**\"Object-Oriented Programming (OOP) is a programming paradigm where the code is organized into reusable objects that combine data (attributes) and functionality (methods). Unlike procedural programming, which is linear and focuses on functions, OOP focuses on modeling real-world entities and their behavior. The key concepts of OOP are encapsulation, abstraction, inheritance, and polymorphism.\"**"
   ]
  },
  {
   "cell_type": "markdown",
   "metadata": {},
   "source": [
    "### **Classes and Objects**\n",
    "\n",
    "**Definition:**\n",
    "**\"A class is a blueprint or template that defines the structure and behavior (attributes and methods) of objects. An object is an instance of a class, representing a specific realization of that blueprint.\"**\n",
    "\n",
    "**Syntax:** \\\n",
    "class classname: \\\n",
    "        #attribute \\\n",
    "        #methods\n",
    "\n",
    "**Example :** \\\n",
    "**\"Think of a class as the blueprint for a car. It defines what a car is (wheels, engine) and what it can do (start, stop). Each car produced from the blueprint is an object, like your personal car or a friend's car, each with its own unique attributes (color, model).\"**"
   ]
  },
  {
   "cell_type": "code",
   "execution_count": 6,
   "metadata": {},
   "outputs": [
    {
     "name": "stdout",
     "output_type": "stream",
     "text": [
      "hyundai\n",
      "hyundai\n"
     ]
    }
   ],
   "source": [
    "# Car class (blueprint)\n",
    "class Car:\n",
    "    x=\"hyundai\"\n",
    "\n",
    "# objects (individual cars) from the Car class\n",
    "my_car = Car()\n",
    "my_c2 = Car()\n",
    "\n",
    "#acessing attribute\n",
    "print(my_car.x)\n",
    "print(my_c2.x)\n"
   ]
  },
  {
   "cell_type": "markdown",
   "metadata": {},
   "source": [
    "### **Attributes and Methods**\n",
    "\n",
    "- **Attributes:** \n",
    "**\"Attributes are variables that store data about an object. For example, a Car class might have attributes like color and model.\"**\n",
    "\n",
    "- **Methods:** \n",
    "**\"Methods are functions defined inside a class that describe the behaviors of an object. For example, a start_engine() method in the Car class represents the action of starting the car.\"**"
   ]
  },
  {
   "cell_type": "code",
   "execution_count": 10,
   "metadata": {},
   "outputs": [
    {
     "name": "stdout",
     "output_type": "stream",
     "text": [
      "This car is a Toyota Camry.\n"
     ]
    }
   ],
   "source": [
    "# Example: Attributes and Methods\n",
    "class Car:\n",
    "    def __init__(self, brand, model):\n",
    "        self.brand = brand  # Attribute\n",
    "        self.model = model  # Attribute\n",
    "\n",
    "    def display_info(self):  # Method\n",
    "        print(f\"This car is a {self.brand} {self.model}.\")\n",
    "\n",
    "# Creating an object\n",
    "my_car = Car(\"Toyota\", \"Camry\")\n",
    "my_car.display_info() "
   ]
  },
  {
   "cell_type": "markdown",
   "metadata": {},
   "source": [
    "#### **Self Keyword**\n",
    "\n",
    "**Definition:**\n",
    "**\"self is a reference to the current object of a class. It allows methods to access and modify the attributes of the specific object that called the method.\"**\n",
    "\n",
    "**Example Explanation:**\n",
    "**\"If you have two objects, Car1 and Car2, the self keyword ensures that when you start the engine of Car1, it doesn't affect Car2. It links methods and attributes to the specific object being used.\"**\n",
    "\n"
   ]
  },
  {
   "cell_type": "code",
   "execution_count": 2,
   "metadata": {},
   "outputs": [
    {
     "name": "stdout",
     "output_type": "stream",
     "text": [
      "Area: 15\n",
      "Area: 18\n"
     ]
    }
   ],
   "source": [
    "# Example: Using self\n",
    "class Rectangle:\n",
    "    def __init__(self, length, width):\n",
    "        self.length = length  # Attribute\n",
    "        self.width = width    # Attribute\n",
    "\n",
    "    def area(self):  # Method that uses self\n",
    "        return self.length * self.width\n",
    "\n",
    "# Creating an object\n",
    "rect = Rectangle(5, 3)\n",
    "rect2= Rectangle(6, 3)\n",
    "print(\"Area:\", rect.area())  \n",
    "print(\"Area:\", rect2.area()) "
   ]
  },
  {
   "cell_type": "markdown",
   "metadata": {},
   "source": [
    "#### **Constructor (__init__)**\n",
    "\n",
    "**Definition:**\n",
    "**\"A constructor is a special method in Python, named __init__, that is called automatically when an object is created. It initializes the attributes of the object.\"**\n",
    "\n",
    "**Example Explanation:**\n",
    "**\"When you create a new object of the Person class, the constructor allows you to set their name and age immediately, instead of assigning these attributes later.\"**"
   ]
  },
  {
   "cell_type": "code",
   "execution_count": 8,
   "metadata": {},
   "outputs": [
    {
     "name": "stdout",
     "output_type": "stream",
     "text": [
      "Name: Hari, Roll No: 101\n"
     ]
    }
   ],
   "source": [
    "# Example: Constructor\n",
    "class Student:\n",
    "    def __init__(self, name, roll_no):\n",
    "        self.name = name  # Attribute\n",
    "        self.roll_no = roll_no  # Attribute\n",
    "\n",
    "    def display(self):  # Method\n",
    "        print(f\"Name: {self.name}, Roll No: {self.roll_no}\")\n",
    "\n",
    "# Creating an object\n",
    "student1 = Student(\"Hari\", 101)\n",
    "student1.display()  "
   ]
  }
 ],
 "metadata": {
  "kernelspec": {
   "display_name": "Python 3",
   "language": "python",
   "name": "python3"
  },
  "language_info": {
   "codemirror_mode": {
    "name": "ipython",
    "version": 3
   },
   "file_extension": ".py",
   "mimetype": "text/x-python",
   "name": "python",
   "nbconvert_exporter": "python",
   "pygments_lexer": "ipython3",
   "version": "3.11.9"
  }
 },
 "nbformat": 4,
 "nbformat_minor": 2
}
