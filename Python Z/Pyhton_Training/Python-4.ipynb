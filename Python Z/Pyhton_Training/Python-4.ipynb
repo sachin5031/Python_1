{
 "cells": [
  {
   "cell_type": "markdown",
   "metadata": {},
   "source": [
    "# Conditional Statement\n",
    "\n",
    "Conditional statements in Python are control flow tools that allow a program to\n",
    "make decisions and execute specific blocks of code based on whether a condition \n",
    "is True or False. They enable programs to handle different scenarios dynamically,\n",
    "making them essential for creating interactive and responsive programs."
   ]
  },
  {
   "cell_type": "markdown",
   "metadata": {},
   "source": [
    "## Key Features of Conditional Statements:\n",
    "\n",
    "Decision-making: They allow the program to decide which path of code to execute depending on the evaluation of a condition.\n",
    "\n"
   ]
  },
  {
   "cell_type": "markdown",
   "metadata": {},
   "source": [
    "## How Conditional Statements Work\n",
    "\n",
    "Conditional Statement syntax:-\n",
    "\n",
    "    if(condition):\n",
    "\n",
    "       statement\n",
    "\n",
    "Condition:\n",
    "\n",
    "A condition is a logical expression that evaluates to either True or False.\n",
    "Python uses comparison operators (==, !=, >, <, >=, <=) and logical operators (and, or, not) to form conditions."
   ]
  },
  {
   "cell_type": "code",
   "execution_count": 2,
   "metadata": {},
   "outputs": [
    {
     "name": "stdout",
     "output_type": "stream",
     "text": [
      "You are eligible to vote.\n"
     ]
    }
   ],
   "source": [
    "age = 19\n",
    "if age >= 18:\n",
    "    print(\"You are eligible to vote.\")\n"
   ]
  },
  {
   "cell_type": "markdown",
   "metadata": {},
   "source": [
    "Control Flow:\n",
    "\n",
    "If the condition is True, the corresponding block of code is executed.\n",
    "If the condition is False, Python either skips the block or moves to another branch.\n"
   ]
  },
  {
   "cell_type": "markdown",
   "metadata": {},
   "source": [
    "## Types of Conditional Statements in Python\n",
    "\n"
   ]
  },
  {
   "cell_type": "markdown",
   "metadata": {},
   "source": [
    "if Statement:\n",
    "\n",
    "Executes a block of code only if the condition evaluates to True.\n",
    "If the condition is False, the code inside the block is skipped"
   ]
  },
  {
   "cell_type": "code",
   "execution_count": 3,
   "metadata": {},
   "outputs": [],
   "source": [
    "number = 3\n",
    "if number > 5:\n",
    "    print(\"The number is greater than 5.\")\n"
   ]
  },
  {
   "cell_type": "code",
   "execution_count": 4,
   "metadata": {},
   "outputs": [
    {
     "name": "stdout",
     "output_type": "stream",
     "text": [
      "You are eligible to vote.\n"
     ]
    }
   ],
   "source": [
    "age = 18\n",
    "if age >= 18:\n",
    "    print(\"You are eligible to vote.\")\n"
   ]
  },
  {
   "cell_type": "markdown",
   "metadata": {},
   "source": [
    "if-else Statement:\n",
    "\n",
    "Provides an alternative block of code to execute if the condition is False."
   ]
  },
  {
   "cell_type": "code",
   "execution_count": 5,
   "metadata": {},
   "outputs": [
    {
     "name": "stdout",
     "output_type": "stream",
     "text": [
      "The number is negative.\n"
     ]
    }
   ],
   "source": [
    "number = -3\n",
    "if number >= 0:\n",
    "    print(\"The number is positive.\")\n",
    "else:\n",
    "    print(\"The number is negative.\")\n"
   ]
  },
  {
   "cell_type": "markdown",
   "metadata": {},
   "source": [
    "if-elif-else Statement:\n",
    "\n",
    "Used to test multiple conditions sequentially.\n",
    "The first condition that evaluates to True gets executed, and the remaining conditions are ignored."
   ]
  },
  {
   "cell_type": "code",
   "execution_count": 7,
   "metadata": {},
   "outputs": [
    {
     "name": "stdout",
     "output_type": "stream",
     "text": [
      "Grade: D\n"
     ]
    }
   ],
   "source": [
    "score = 40\n",
    "if score >= 90:\n",
    "    print(\"Grade: A\")\n",
    "elif score >= 75:\n",
    "    print(\"Grade: B\")\n",
    "elif score >= 50:\n",
    "    print(\"Grade: C\")\n",
    "elif score >= 35:\n",
    "    print(\"Grade: D\")\n",
    "else:\n",
    "    print(\"Grade: F\")\n"
   ]
  },
  {
   "cell_type": "markdown",
   "metadata": {},
   "source": [
    "Nested if Statements:\n",
    "\n",
    "You can place an if statement inside another if statement to handle more complex decision-making scenarios."
   ]
  },
  {
   "cell_type": "code",
   "execution_count": 13,
   "metadata": {},
   "outputs": [
    {
     "name": "stdout",
     "output_type": "stream",
     "text": [
      "The number is not positive.\n"
     ]
    }
   ],
   "source": [
    "number = -11\n",
    "if number >= 0:\n",
    "    if number % 2 == 0:\n",
    "        print(\"The number is positive and even.\")\n",
    "    else:\n",
    "        print(\"The number is positive but odd.\")\n",
    "else:\n",
    "    print(\"The number is not positive.\")\n"
   ]
  },
  {
   "cell_type": "markdown",
   "metadata": {},
   "source": [
    "#  Indentation in Python\n",
    "Indentation in Python refers to the spaces or tabs at the beginning of a line of code, which define the structure and hierarchy of your program. Unlike some other programming languages that use braces {} or keywords to define code blocks, Python relies solely on indentation to indicate which lines of code belong together in a block.\n",
    "\n"
   ]
  },
  {
   "cell_type": "markdown",
   "metadata": {},
   "source": [
    "Indentation visually separates blocks of code, making it easier to understand the program's flow and logic.\n"
   ]
  },
  {
   "cell_type": "markdown",
   "metadata": {},
   "source": [
    "Indentation shows the relationship between lines of code, such as which statements are part of a loop, function, or conditional block."
   ]
  },
  {
   "cell_type": "markdown",
   "metadata": {},
   "source": [
    "Unlike other languages, Python uses indentation to define code blocks instead of braces {} or other symbols. Improper indentation will result in an error."
   ]
  },
  {
   "cell_type": "code",
   "execution_count": 17,
   "metadata": {},
   "outputs": [
    {
     "name": "stdout",
     "output_type": "stream",
     "text": [
      "You are an adult.\n",
      "You are an adult.\n"
     ]
    }
   ],
   "source": [
    "age=20\n",
    "\n",
    "# without indentation\n",
    "if age >= 18:\n",
    "    print(\"You are an adult.\")\n",
    "else:\n",
    "    print(\"You are a minor.\")\n",
    "\n",
    "# with indentation\n",
    "if age >= 18:\n",
    "    print(\"You are an adult.\")\n",
    "else:\n",
    "    print(\"You are a minor.\")\n"
   ]
  },
  {
   "cell_type": "code",
   "execution_count": 19,
   "metadata": {},
   "outputs": [
    {
     "name": "stdout",
     "output_type": "stream",
     "text": [
      "3696\n"
     ]
    }
   ],
   "source": [
    "# Prompt the user for an operation\n",
    "options = input('Enter the math operation to be done (addition, subtraction, etc.): ')\n",
    "options= options.lower()\n",
    "# Check if the option is addition or add\n",
    "if options == \"addition\" or options == \"add\":\n",
    "    n1 = int(input(\"Enter a number to add: \"))\n",
    "    n2 = int(input(\"Enter a number to add: \"))\n",
    "    print('the sum of the given integers is ',n1 + n2)\n",
    "# Check if the option is subtraction or sub\n",
    "elif options == \"subtraction\" or options == \"sub\":\n",
    "    n1 = int(input(\"Enter a number to subtract: \"))\n",
    "    n2 = int(input(\"Enter a number to subtract: \"))\n",
    "    print(n1 - n2)\n",
    "# Check if the option multiplication is  or multiply\n",
    "elif options == \"multiplication\" or options == \"multiply\":\n",
    "    n1 = int(input(\"Enter a number to multiply: \"))\n",
    "    n2 = int(input(\"Enter a number to multiply: \"))\n",
    "    print(n1 * n2)\n",
    "else:\n",
    "    print(\"Invalid option entered. Please enter either 'addition', 'multiplication' or 'subtraction'.\")\n"
   ]
  },
  {
   "cell_type": "code",
   "execution_count": null,
   "metadata": {},
   "outputs": [
    {
     "name": "stdout",
     "output_type": "stream",
     "text": [
      "The first character is 's'\n"
     ]
    }
   ],
   "source": [
    "a = \"sachin\"\n",
    "\n",
    "if a[0] == \"s\":\n",
    "    print(\"The first character is 's'\")\n",
    "else:\n",
    "    print(\"The first character is not 's'\")"
   ]
  },
  {
   "cell_type": "code",
   "execution_count": 20,
   "metadata": {},
   "outputs": [
    {
     "name": "stdout",
     "output_type": "stream",
     "text": [
      "The fourth character is not 'i'\n"
     ]
    }
   ],
   "source": [
    "a = \"sachin\"\n",
    "\n",
    "if a[3] == \"i\":\n",
    "    print(\"The fourth character is 'i'\")\n",
    "else:\n",
    "    print(\"The fourth character is not 'i'\")"
   ]
  }
 ],
 "metadata": {
  "kernelspec": {
   "display_name": "Python 3",
   "language": "python",
   "name": "python3"
  },
  "language_info": {
   "codemirror_mode": {
    "name": "ipython",
    "version": 3
   },
   "file_extension": ".py",
   "mimetype": "text/x-python",
   "name": "python",
   "nbconvert_exporter": "python",
   "pygments_lexer": "ipython3",
   "version": "3.13.2"
  }
 },
 "nbformat": 4,
 "nbformat_minor": 2
}
