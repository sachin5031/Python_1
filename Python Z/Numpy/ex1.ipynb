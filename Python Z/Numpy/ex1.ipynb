{
 "cells": [
  {
   "cell_type": "code",
   "execution_count": 2,
   "id": "4a4c8922",
   "metadata": {},
   "outputs": [],
   "source": [
    "import numpy as np"
   ]
  },
  {
   "cell_type": "code",
   "execution_count": null,
   "id": "8da19d48",
   "metadata": {},
   "outputs": [],
   "source": [
    "# arr = np.array([1, 2, 3, 4, 5])\n",
    "# print(arr)\n",
    "\n",
    "arr = np.array(range(10))\n",
    "print(arr)"
   ]
  },
  {
   "cell_type": "code",
   "execution_count": null,
   "id": "a8a59f2e",
   "metadata": {},
   "outputs": [],
   "source": [
    "a = np.zeros((4,5), dtype=int) # Create a 4x5 array filled with zeros\n",
    "print(a)\n",
    "\n",
    "b = np.ones((3,4), dtype=int) # Create a 3x4 array filled with ones\n",
    "print(b)\n",
    "\n",
    "c = np.full((2,3), 17, dtype=int)   # Create a 2D array filled with 17\n",
    "print(c)\n",
    "\n",
    "d = np.eye(3, dtype=int) # Identity matrix\n",
    "print(d)\n",
    "\n",
    "e = np.random.random((3,2)) # Create a 2x2 array with random floats\n",
    "print(e)\n",
    "\n",
    "f = np.arange(0, 25, 5) # Create an array with values from 10 to 25 with a step of 5\n",
    "print(f)    \n",
    "\n",
    "g = np.linspace(0, 2, 9) # Create an array with 9 values evenly spaced between 0 and 2      \n",
    "print(g)"
   ]
  },
  {
   "cell_type": "code",
   "execution_count": null,
   "id": "b8b8baa3",
   "metadata": {},
   "outputs": [],
   "source": [
    "# 1D array\n",
    "one = np.array([1, 2, 3, 4, 5])\n",
    "print(one)  "
   ]
  },
  {
   "cell_type": "code",
   "execution_count": null,
   "id": "26b7c9f3",
   "metadata": {},
   "outputs": [],
   "source": [
    "d = np.eye(3,3, dtype=int) #create a 3x3 identity matrix\n",
    "print(d)"
   ]
  },
  {
   "cell_type": "code",
   "execution_count": 2,
   "id": "ff8f2414",
   "metadata": {},
   "outputs": [
    {
     "name": "stdout",
     "output_type": "stream",
     "text": [
      "[[1 2 3]\n",
      " [4 5 6]\n",
      " [7 8 9]]\n",
      "6\n",
      "[4 5 6]\n",
      "[2 5 8]\n",
      "[[1 2 3]\n",
      " [4 5 6]\n",
      " [7 8 9]]\n",
      "[[4 5 6]]\n",
      "[[1 2]\n",
      " [4 5]]\n"
     ]
    }
   ],
   "source": [
    "# 2 D array\n",
    "two = np.array([[1, 2, 3], [4, 5, 6], [7, 8, 9]])\n",
    "print(two)\n",
    "print(two[1,2]) # Accessing an element in a 2D array\n",
    "print(two[1])  # Accessing a row in a 2D array\n",
    "print(two[:, 1])  # Accessing a column in a 2D array\n",
    "print(two[:, :])  # Accessing a column in a 2D array\n",
    "print(two[1:2])  # Slicing a 2D array\n",
    "print(two[0:2, 0:2]) # Slicing a 2D array with specific rows and columns"
   ]
  },
  {
   "cell_type": "code",
   "execution_count": 1,
   "id": "6f66fb60",
   "metadata": {},
   "outputs": [
    {
     "name": "stdout",
     "output_type": "stream",
     "text": [
      "[[[ 1  2  3]\n",
      "  [ 4  5  6]]\n",
      "\n",
      " [[ 7  8  9]\n",
      "  [10 11 12]]]\n",
      "6\n",
      "[4 5 6]\n",
      "[2 5]\n",
      "[[[1 2]\n",
      "  [4 5]]]\n"
     ]
    }
   ],
   "source": [
    "# 3 D array\n",
    "import numpy as np\n",
    "three = np.array([[[1, 2, 3], [4, 5, 6]], [[7, 8, 9], [10, 11, 12]]])\n",
    "print(three)\n",
    "print(three[0, 1, 2])  # Accessing an element in a 3D array\n",
    "print(three[0, 1])  # Accessing a 2D slice in a 3D array\n",
    "# print(three[:, 1])  # Accessing a 2D slice in a 3D array\n",
    "print(three[0, :, 1])  # Accessing a column in a 3D array\n",
    "print(three[0:1, 0:2, 0:2]) # Slicing a 3D array with specific dimensions"
   ]
  },
  {
   "cell_type": "code",
   "execution_count": 19,
   "id": "405660f4",
   "metadata": {},
   "outputs": [
    {
     "name": "stdout",
     "output_type": "stream",
     "text": [
      "(3, 2, 3)\n",
      "3\n",
      "18\n",
      "[[ 1  2  3  4  5  6  6  7  8]\n",
      " [10 11 12 13 14 15 16 17 18]]\n",
      "[ 1  2  3  4  5  6  6  7  8 10 11 12 13 14 15 16 17 18]\n",
      "[ 1  2  3  4  5  6  6  7  8 10 11 12 13 14 15 16 17 18]\n"
     ]
    }
   ],
   "source": [
    "t = np.array([[[1,2,3],[4,5,6]],[[6,7,8],[10,11,12]],[[13,14,15],[16,17,18]]])\n",
    "print(t.shape)\n",
    "print(t.ndim)\n",
    "print(t.size)\n",
    "print(t.reshape(-1,9))\n",
    "print(t.ravel())\n",
    "print(t.flatten())"
   ]
  },
  {
   "cell_type": "code",
   "execution_count": 5,
   "id": "00190aaf",
   "metadata": {},
   "outputs": [
    {
     "name": "stdout",
     "output_type": "stream",
     "text": [
      "4\n",
      "4\n"
     ]
    }
   ],
   "source": [
    "a =4587\n",
    "count=0\n",
    "while a!= 0:\n",
    "    a = a // 10\n",
    "    count += 1 \n",
    "print(count)  # Count the number of digits in a number\n",
    "\n",
    "print(len(str(4587)))  # Count the number of digits in a number using string conversion"
   ]
  },
  {
   "cell_type": "code",
   "execution_count": null,
   "id": "42659a7e",
   "metadata": {},
   "outputs": [],
   "source": [
    "a = np.array([[25, 50, 75, 100],[34,40, 60, 80],[15, 27, 37, 44],[12, 18, 24, 30],[5, 10, 15, 20],[23, 45, 67, 89]])\n",
    "print(a)\n",
    "# print(a[2])  # Accessing a row in a 2D array\n",
    "# print(a[:,3]) # Accessing a 3rd column in a 2D array\n",
    "# # print(a[:,-1]) # Accessing the last column in a 2D array\n",
    "# print(a[:,::-1]) # Accessing all rows and reversing the columns\n",
    "# print(a[1:3, 1:3])  # Slicing a 2D array with specific rows and columns\n",
    "a[:,-2] = a[:,-2] * 2  # Doubling the second last column\n",
    "a[-2] = a[-2]*2 # Doubling the second last row\n",
    "print(\"A\\n\", a)\n",
    "a[a<25] = 28\n",
    "print(\"A\\n\", a)  # Replacing all elements less than 25 with 28  \n",
    "print(\"A \\n\", a.ravel())  # Flattening the array to 1D\n",
    "print(\"A \\n\", a.reshape(6, 4))  # Reshaping the array to 6 rows and 4 columns\n"
   ]
  },
  {
   "cell_type": "code",
   "execution_count": null,
   "id": "660502c6",
   "metadata": {},
   "outputs": [
    {
     "name": "stdout",
     "output_type": "stream",
     "text": [
      "Enter the matrix of A\n",
      "Enter only Numeric value\n",
      "None\n",
      "Enter only Numeric value\n",
      "None\n",
      "Enter your choice from 1 to 5\n",
      "1. Addition\n",
      "2. Subtraction\n",
      "3. Multiplication\n",
      "4. Division of Matrix A by a number\n",
      "5. Exit\n",
      "Thank you! Exiting the calculator.\n"
     ]
    }
   ],
   "source": [
    "import numpy as np\n",
    "def create_matrix(name):\n",
    "    try:\n",
    "        rows=int(input(f\"Enter a no of rows for {name}\"))\n",
    "        cols = int(input(f\"Enter a no of columns for {name}\"))\n",
    "        print(f\"Enter the matrix of {name}\")\n",
    "        matrix=[]\n",
    "        for x in range(rows):\n",
    "            row = []\n",
    "            for y in range(cols):\n",
    "                val=int(input(f\"The index of {x+1},{y+1}\"))\n",
    "                row.append(val)\n",
    "            matrix.append(row)\n",
    "        return np.array(matrix)\n",
    "    except ValueError:\n",
    "        print(\"Enter only Numeric value\")\n",
    "        return None\n",
    "      \n",
    "def add(a,b):\n",
    "    if a.shape == b.shape:\n",
    "        return a + b\n",
    "    else:\n",
    "        return \"Error: Matrices must have the same dimensions.\"\n",
    "def sub(a,b):\n",
    "    if a.shape == b.shape:\n",
    "        return a - b\n",
    "    else:\n",
    "        return \"Error: Matrices must have the same dimensions.\"\n",
    "def multiplication(a, b):\n",
    "    try:\n",
    "        return np.dot(a, b)\n",
    "    except ValueError:\n",
    "        return \"Error: Cannot multiply these matrices.\"\n",
    "\n",
    "def division(a, num):\n",
    "    try:\n",
    "        return a / num\n",
    "    except ZeroDivisionError:\n",
    "        return \"Error: Division by zero.\"\n",
    "\n",
    "\n",
    "mat_A=create_matrix(\"A\")\n",
    "print(mat_A)\n",
    "mat_B=create_matrix(\"B\")\n",
    "print(mat_B)\n",
    "\n",
    "while True:\n",
    "    print(\"Enter your choice from 1 to 5\")\n",
    "    print(\"1. Addition\")\n",
    "    print(\"2. Subtraction\")\n",
    "    print(\"3. Multiplication\")\n",
    "    print(\"4. Division of Matrix A by a number\")\n",
    "    print(\"5. Exit\")\n",
    "\n",
    "    try:\n",
    "        choice = int(input(\"Enter your choice\"))\n",
    "        if choice ==1:\n",
    "            print(\"Addition\",add(mat_A,mat_B))\n",
    "        elif choice==2:\n",
    "            print(\"Sub\",sub(mat_A,mat_B))\n",
    "        elif choice==3:\n",
    "            print(\"Multiply\",multiplication(mat_A,mat_B))\n",
    "        elif choice==4:\n",
    "            num = int(input(\"enter a no to divide\"))\n",
    "            print(\"Divide\",division(mat_A,num))\n",
    "        elif choice==5:\n",
    "            print(\"Thank you! Exiting the calculator.\")\n",
    "            break\n",
    "        else:\n",
    "            print(\"Invalid choice\")\n",
    "    except ValueError:\n",
    "        print(\"Enter the valid input form 1 to 5 \")"
   ]
  },
  {
   "cell_type": "code",
   "execution_count": 1,
   "id": "3c50beeb",
   "metadata": {},
   "outputs": [
    {
     "name": "stdout",
     "output_type": "stream",
     "text": [
      "Matrix from loop:\n",
      " [[0, 1, 2, 3]]\n",
      "Matrix from loop:\n",
      " [[0, 1, 2, 3], [1, 2, 3, 4]]\n",
      "Matrix from loop:\n",
      " [[0, 1, 2, 3], [1, 2, 3, 4], [2, 3, 4, 5]]\n",
      "Matrix from loop:\n",
      " [[0, 1, 2, 3], [1, 2, 3, 4], [2, 3, 4, 5], [3, 4, 5, 6]]\n"
     ]
    }
   ],
   "source": [
    "matrix = []\n",
    "for x in range(4):\n",
    "    matrix.append([])\n",
    "    # print(matrix)\n",
    "    for y in range(4):\n",
    "        matrix[x].append(x + y)\n",
    "        # print(matrix[x])\n",
    "    print(\"Matrix from loop:\\n\", matrix)"
   ]
  },
  {
   "cell_type": "code",
   "execution_count": null,
   "id": "636ee091",
   "metadata": {},
   "outputs": [
    {
     "name": "stdout",
     "output_type": "stream",
     "text": [
      "Matrix from loop:\n",
      " [[0, 1, 2, 3]]\n",
      "Matrix from loop:\n",
      " [[0, 1, 2, 3], [1, 2, 3, 4]]\n",
      "Matrix from loop:\n",
      " [[0, 1, 2, 3], [1, 2, 3, 4], [2, 3, 4, 5]]\n",
      "Matrix from loop:\n",
      " [[0, 1, 2, 3], [1, 2, 3, 4], [2, 3, 4, 5], [3, 4, 5, 6]]\n",
      "[[0 1 2 3]\n",
      " [1 2 3 4]\n",
      " [2 3 4 5]\n",
      " [3 4 5 6]]\n"
     ]
    }
   ],
   "source": [
    "matrix = []\n",
    "for x in range(4):\n",
    "    row = []\n",
    "    for y in range(4):\n",
    "        val = x + y\n",
    "        row.append(val)\n",
    "    matrix.append(row)    \n",
    "print(\"Matrix from loop:\\n\", matrix)\n",
    "print(np.array(matrix))"
   ]
  }
 ],
 "metadata": {
  "kernelspec": {
   "display_name": "Python 3",
   "language": "python",
   "name": "python3"
  },
  "language_info": {
   "codemirror_mode": {
    "name": "ipython",
    "version": 3
   },
   "file_extension": ".py",
   "mimetype": "text/x-python",
   "name": "python",
   "nbconvert_exporter": "python",
   "pygments_lexer": "ipython3",
   "version": "3.13.2"
  }
 },
 "nbformat": 4,
 "nbformat_minor": 5
}
