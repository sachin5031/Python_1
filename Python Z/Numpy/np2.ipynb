{
 "cells": [
  {
   "cell_type": "markdown",
   "metadata": {},
   "source": [
    "Numpy Arithmetic Operations"
   ]
  },
  {
   "cell_type": "code",
   "execution_count": 1,
   "metadata": {},
   "outputs": [],
   "source": [
    "import numpy as np"
   ]
  },
  {
   "cell_type": "code",
   "execution_count": 2,
   "metadata": {},
   "outputs": [
    {
     "name": "stdout",
     "output_type": "stream",
     "text": [
      "[[ 3  5  7]\n",
      " [10 12 14]]\n"
     ]
    }
   ],
   "source": [
    "a = np.array([[1,2,3],[4,5,6]])\n",
    "b = np.array([[2,3,4],[6,7,8]])\n",
    "print(a + b)"
   ]
  },
  {
   "cell_type": "code",
   "execution_count": 3,
   "metadata": {},
   "outputs": [
    {
     "name": "stdout",
     "output_type": "stream",
     "text": [
      "[[ 2  6 12]\n",
      " [24 35 48]]\n"
     ]
    }
   ],
   "source": [
    "a = np.array([[1,2,3],[4,5,6]])\n",
    "b = np.array([[2,3,4],[6,7,8]])\n",
    "print(a*b)"
   ]
  },
  {
   "cell_type": "code",
   "execution_count": 4,
   "metadata": {},
   "outputs": [
    {
     "name": "stdout",
     "output_type": "stream",
     "text": [
      "[[0.5        0.66666667 0.75      ]\n",
      " [0.66666667 0.71428571 0.75      ]]\n"
     ]
    }
   ],
   "source": [
    "a = np.array([[1,2,3],[4,5,6]])\n",
    "b = np.array([[2,3,4],[6,7,8]])\n",
    "print(a/b)"
   ]
  },
  {
   "cell_type": "code",
   "execution_count": null,
   "metadata": {},
   "outputs": [
    {
     "name": "stdout",
     "output_type": "stream",
     "text": [
      "[[ 3  5  7]\n",
      " [ 7  9 11]]\n",
      "(2, 3)\n",
      "2\n",
      "6\n"
     ]
    },
    {
     "data": {
      "text/plain": [
       "(3,)"
      ]
     },
     "execution_count": 5,
     "metadata": {},
     "output_type": "execute_result"
    }
   ],
   "source": [
    "#Broadcast Numpy Arithmetic Operations\n",
    "a = np.array([1,2,3])\n",
    "b = np.array([[2,3,4],[6,7,8]])\n",
    "print(a + b)\n",
    "\n",
    "print(b.shape)\n",
    "print(b.ndim)\n",
    "print(b.size)\n",
    "a.shape"
   ]
  },
  {
   "cell_type": "markdown",
   "metadata": {},
   "source": [
    "Indexing, Slicing and Reshaping Operations"
   ]
  },
  {
   "cell_type": "code",
   "execution_count": 6,
   "metadata": {},
   "outputs": [
    {
     "name": "stdout",
     "output_type": "stream",
     "text": [
      "4\n"
     ]
    }
   ],
   "source": [
    "#1d array\n",
    "a = np.array([1,2,3,4,5,6])\n",
    "print(a[3])"
   ]
  },
  {
   "cell_type": "code",
   "execution_count": 7,
   "metadata": {},
   "outputs": [
    {
     "name": "stdout",
     "output_type": "stream",
     "text": [
      "3\n",
      "7\n"
     ]
    }
   ],
   "source": [
    "#2d array\n",
    "b = np.array([[2,3,4],[6,7,8]])\n",
    "print(b[0,1])\n",
    "print(b[1,1])"
   ]
  },
  {
   "cell_type": "code",
   "execution_count": 8,
   "metadata": {},
   "outputs": [
    {
     "name": "stdout",
     "output_type": "stream",
     "text": [
      "9\n",
      "3\n",
      "9\n",
      "5\n"
     ]
    }
   ],
   "source": [
    "#3d array           \n",
    "ar = np.array([[[1,2,3,],[4,5,6]],[[7,8,9],[9,10,11]]])\n",
    "print(ar[1,0,2])\n",
    "print(ar[0,0,2])\n",
    "print(ar[1,1,0])\n",
    "print(ar[0,1,1])"
   ]
  },
  {
   "cell_type": "code",
   "execution_count": null,
   "metadata": {},
   "outputs": [],
   "source": [
    "a = np.array([1,2,3,4,5,6,7,8,9])\n",
    "a = a.reshape(3,3)\n",
    "print(a)    "
   ]
  },
  {
   "cell_type": "code",
   "execution_count": 10,
   "metadata": {},
   "outputs": [
    {
     "name": "stdout",
     "output_type": "stream",
     "text": [
      "[2 3 4 6 7 8]\n"
     ]
    }
   ],
   "source": [
    "'''flatten() (Always returns a new copy)\n",
    "Always returns a copy of the array.\n",
    "\n",
    "Modifying the returned array does not affect the original array.\n",
    "\n",
    "Uses more memory because a new array is created.'''\n",
    "\n",
    "b = np.array([[2,3,4],[6,7,8]])\n",
    "print(b.flatten())"
   ]
  },
  {
   "cell_type": "code",
   "execution_count": 11,
   "metadata": {},
   "outputs": [
    {
     "name": "stdout",
     "output_type": "stream",
     "text": [
      "[2 3 4 6 7 8]\n"
     ]
    }
   ],
   "source": [
    "'''' ravel() (Memory-efficient, returns a view when possible)\n",
    "Returns a view (not a copy) of the original array when possible.\n",
    "\n",
    "If you modify the returned array, it may affect the original array.\n",
    "\n",
    "Faster and more memory-efficient.'''''\n",
    "\n",
    "b = np.array([[2,3,4],[6,7,8]])\n",
    "print(b.ravel())"
   ]
  },
  {
   "cell_type": "code",
   "execution_count": 9,
   "metadata": {},
   "outputs": [
    {
     "name": "stdout",
     "output_type": "stream",
     "text": [
      "[3 4 5]\n"
     ]
    }
   ],
   "source": [
    "a = np.array([1,2,3,4,5,6,7,8,9])\n",
    "print(a[2:5])"
   ]
  },
  {
   "cell_type": "code",
   "execution_count": 12,
   "metadata": {},
   "outputs": [
    {
     "name": "stdout",
     "output_type": "stream",
     "text": [
      "[7]\n",
      "[2 3]\n"
     ]
    }
   ],
   "source": [
    "b = np.array([[2,3,4],[6,7,8]])\n",
    "print(b[1, 1:2])\n",
    "print(b[0, 0:2])"
   ]
  },
  {
   "cell_type": "code",
   "execution_count": 13,
   "metadata": {},
   "outputs": [
    {
     "name": "stdout",
     "output_type": "stream",
     "text": [
      "[ 9 10]\n",
      "[7 8]\n",
      "[1 2]\n",
      "[4 5]\n",
      "[11 10  9]\n",
      "[9 8 7]\n"
     ]
    }
   ],
   "source": [
    "ar = np.array([[[1,2,3],[4,5,6]],[[7,8,9],[9,10,11]]])\n",
    "print(ar[1,1,0:2])\n",
    "print(ar[1,0,0:2])\n",
    "print(ar[0,0,0:2])\n",
    "print(ar[0,1,0:2])\n",
    "print(ar[1,1,::-1])\n",
    "print(ar[1,0,::-1])"
   ]
  },
  {
   "cell_type": "code",
   "execution_count": 14,
   "metadata": {},
   "outputs": [
    {
     "name": "stdout",
     "output_type": "stream",
     "text": [
      "[1 2]\n"
     ]
    }
   ],
   "source": [
    "ar = np.array([[[1,2,3],[4,5,6],[9,10,11]],[[7,8,9],[9,10,11],[1,2,3]]])\n",
    "print(ar[1,2,0:2])"
   ]
  },
  {
   "cell_type": "code",
   "execution_count": 15,
   "metadata": {},
   "outputs": [
    {
     "name": "stdout",
     "output_type": "stream",
     "text": [
      "[18 19]\n"
     ]
    }
   ],
   "source": [
    "ar = np.array([[[1,2,3],[4,5,6],[9,10,11]],[[7,8,9],[9,10,11],[1,2,3]],[[12,13,14],[15,16,17],[18,19,20]]])\n",
    "print(ar[2,2,0:2])"
   ]
  },
  {
   "cell_type": "code",
   "execution_count": 16,
   "metadata": {},
   "outputs": [
    {
     "name": "stdout",
     "output_type": "stream",
     "text": [
      "[ 1  2  3  4  5  6  9 10 11  7  8  9  9 10 11  1  2  3 12 13 14 15 16 17\n",
      " 18 19 20]\n"
     ]
    }
   ],
   "source": [
    "ar = np.array([[[1,2,3],[4,5,6],[9,10,11]],[[7,8,9],[9,10,11],[1,2,3]],[[12,13,14],[15,16,17],[18,19,20]]])\n",
    "print(ar.flatten())"
   ]
  },
  {
   "cell_type": "code",
   "execution_count": null,
   "metadata": {},
   "outputs": [],
   "source": [
    "import numpy as np\n",
    "\n",
    "# 1. Create a (6, 4) NumPy array representing sales (in thousands)\n",
    "sales = np.array([\n",
    "    [55, 62, 70, 58],\n",
    "    [48, 75, 80, 65],\n",
    "    [60, 82, 78, 70],\n",
    "    [45, 58, 62, 50],\n",
    "    [68, 72, 74, 69],\n",
    "    [50, 55, 60, 53]\n",
    "])\n",
    "\n",
    "# 2. Find the sales data for the 3rd shop\n",
    "shop_3_sales = sales[2]\n",
    "print(\"Sales for the 3rd shop:\", shop_3_sales)\n",
    "\n",
    "# 3. Get the sales for all shops in the last quarter\n",
    "last_quarter_sales = sales[:, -1]\n",
    "print(\"Sales in the last quarter:\", last_quarter_sales)\n",
    "\n",
    "# 4. Increase all sales in the first quarter by 10%\n",
    "sales[:, 0] = sales[:, 0] * 1.10  # Increase first column by 10%\n",
    "print(\"Updated sales with 10% increase in Q1:\")\n",
    "print(sales)\n",
    "\n",
    "# 5. If any sales value is less than 50, change it to 50\n",
    "sales[sales < 50] = 50\n",
    "print(\"Updated sales with minimum value 50:\")\n",
    "print(sales)\n",
    "\n",
    "# 6. Convert the array into a single-column format\n",
    "sales_column = sales.reshape(-1, 1)\n",
    "print(\"Sales in single-column format:\")\n",
    "print(sales_column) \n",
    "\n",
    "# 7. Reshape it back to its original (6, 4) format\n",
    "sales_reshaped = sales_column.reshape(6, 4)\n",
    "print(\"Reshaped back to original form:\")\n",
    "print(sales_reshaped)\n"
   ]
  }
 ],
 "metadata": {
  "kernelspec": {
   "display_name": "Python 3",
   "language": "python",
   "name": "python3"
  },
  "language_info": {
   "codemirror_mode": {
    "name": "ipython",
    "version": 3
   },
   "file_extension": ".py",
   "mimetype": "text/x-python",
   "name": "python",
   "nbconvert_exporter": "python",
   "pygments_lexer": "ipython3",
   "version": "3.13.2"
  }
 },
 "nbformat": 4,
 "nbformat_minor": 2
}
