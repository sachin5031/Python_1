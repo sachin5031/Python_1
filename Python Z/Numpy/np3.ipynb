{
 "cells": [
  {
   "cell_type": "code",
   "execution_count": 1,
   "metadata": {},
   "outputs": [],
   "source": [
    "import numpy as np"
   ]
  },
  {
   "cell_type": "markdown",
   "metadata": {},
   "source": [
    "Mean, Median, Mode"
   ]
  },
  {
   "cell_type": "code",
   "execution_count": 2,
   "metadata": {},
   "outputs": [
    {
     "name": "stdout",
     "output_type": "stream",
     "text": [
      "30.77777777777778\n"
     ]
    }
   ],
   "source": [
    "a = np.array([11,20,13,40,15,61,17,81,19])\n",
    "mean_var = np.mean(a)\n",
    "print(mean_var)"
   ]
  },
  {
   "cell_type": "code",
   "execution_count": 3,
   "metadata": {},
   "outputs": [
    {
     "name": "stdout",
     "output_type": "stream",
     "text": [
      "19.0\n"
     ]
    }
   ],
   "source": [
    "a = np.array([11,20,13,40,15,61,17,81,19])\n",
    "median_var = np.median(a)\n",
    "print(median_var)"
   ]
  },
  {
   "cell_type": "code",
   "execution_count": 4,
   "metadata": {},
   "outputs": [
    {
     "name": "stdout",
     "output_type": "stream",
     "text": [
      "20\n",
      "7\n",
      "ModeResult(mode=array([20]), count=array([7]))\n"
     ]
    }
   ],
   "source": [
    "from scipy import stats\n",
    "a1 = np.array([11,20,13,40,15,61,17,81,19,20,20,20,20,20,20])\n",
    "mode_var = stats.mode(a1, keepdims=True)\n",
    "print(mode_var.mode[0])\n",
    "print(mode_var.count[0])\n",
    "print(mode_var)"
   ]
  },
  {
   "cell_type": "markdown",
   "metadata": {},
   "source": [
    "Variance, Standard deviation, Covariance, Correlation"
   ]
  },
  {
   "cell_type": "code",
   "execution_count": 5,
   "metadata": {},
   "outputs": [
    {
     "name": "stdout",
     "output_type": "stream",
     "text": [
      "200.0\n",
      "14.142135623730951\n"
     ]
    }
   ],
   "source": [
    "a= np.array([10,20,30,40,50])\n",
    "variance=np.var(a)\n",
    "std_dev = np.std(a)\n",
    "print(variance)\n",
    "print(std_dev)"
   ]
  },
  {
   "cell_type": "code",
   "execution_count": 6,
   "metadata": {},
   "outputs": [
    {
     "name": "stdout",
     "output_type": "stream",
     "text": [
      "[[250.  267.5]\n",
      " [267.5 294.8]]\n",
      "[[1.         0.98534891]\n",
      " [0.98534891 1.        ]]\n"
     ]
    }
   ],
   "source": [
    "x =np.array([60, 70, 80, 90, 100]) \n",
    "y = np.array([65, 68, 85, 95, 105])\n",
    "covariance = np.cov(x,y)\n",
    "correlation= np.corrcoef(x,y)\n",
    "print(covariance)\n",
    "print(correlation)"
   ]
  },
  {
   "cell_type": "markdown",
   "metadata": {},
   "source": [
    "Range"
   ]
  },
  {
   "cell_type": "code",
   "execution_count": 7,
   "metadata": {},
   "outputs": [
    {
     "name": "stdout",
     "output_type": "stream",
     "text": [
      "40\n"
     ]
    }
   ],
   "source": [
    "x = np.array([60, 70, 80, 90, 100])\n",
    "range = np.ptp(x)\n",
    "print(range)"
   ]
  },
  {
   "cell_type": "markdown",
   "metadata": {},
   "source": [
    "Matrix Arithmetic Operation and Linear Algebra Equation\n"
   ]
  },
  {
   "cell_type": "code",
   "execution_count": null,
   "metadata": {},
   "outputs": [],
   "source": [
    "a= np.array([[1,2,3],[4,5,6]])\n",
    "b= np.array([[7,8,9],[10,11,12]])\n",
    "print(\"A\\n\",a)\n",
    "print(\"B \\n\",b)\n",
    "print(a+b)\n",
    "print(a-b)\n",
    "print(a*b)"
   ]
  },
  {
   "cell_type": "code",
   "execution_count": 3,
   "metadata": {},
   "outputs": [
    {
     "name": "stdout",
     "output_type": "stream",
     "text": [
      "A \n",
      " [[ 1  2]\n",
      " [ 4 56]]\n",
      "B \n",
      " [[ 7  8]\n",
      " [10 12]]\n",
      "C \n",
      " [[ 27  32]\n",
      " [588 704]]\n",
      "D \n",
      " [[ 27  32]\n",
      " [588 704]]\n"
     ]
    }
   ],
   "source": [
    "a= np.array([[1,2],[4,56]])\n",
    "b= np.array([[7,8],[10,12]])\n",
    "print('A \\n',a)\n",
    "print('B \\n',b)\n",
    "c = np.dot(a,b)\n",
    "d = a @ b\n",
    "print('C \\n',c)\n",
    "print('D \\n',d)"
   ]
  },
  {
   "cell_type": "code",
   "execution_count": 4,
   "metadata": {},
   "outputs": [
    {
     "name": "stdout",
     "output_type": "stream",
     "text": [
      "Transpose of A \n",
      " [[ 1  4]\n",
      " [ 2 56]]\n"
     ]
    }
   ],
   "source": [
    "t = a.T\n",
    "\n",
    "print(\"Transpose of A \\n\",t)"
   ]
  },
  {
   "cell_type": "code",
   "execution_count": 6,
   "metadata": {},
   "outputs": [
    {
     "name": "stdout",
     "output_type": "stream",
     "text": [
      "A \n",
      " [[1 4]\n",
      " [2 5]\n",
      " [3 6]\n",
      " [5 8]]\n"
     ]
    }
   ],
   "source": [
    "a= np.array([[1,2,3,5],[4,5,6,8]])\n",
    "\n",
    "b = a.T\n",
    "\n",
    "print(\"A \\n\",b)"
   ]
  },
  {
   "cell_type": "code",
   "execution_count": 12,
   "metadata": {},
   "outputs": [
    {
     "name": "stdout",
     "output_type": "stream",
     "text": [
      "Determinant \n",
      " -2.9999999999999996\n"
     ]
    }
   ],
   "source": [
    "a= np.array([[1,2],[4,5]])\n",
    "Determinant = np.linalg.det(a)\n",
    "print(\"Determinant \\n\",Determinant)"
   ]
  },
  {
   "cell_type": "code",
   "execution_count": 10,
   "metadata": {},
   "outputs": [
    {
     "name": "stdout",
     "output_type": "stream",
     "text": [
      "Inverse \n",
      " [[ 1.16666667 -0.04166667]\n",
      " [-0.08333333  0.02083333]]\n"
     ]
    }
   ],
   "source": [
    "a= np.array([[1,2],[4,56]])\n",
    "Inverse = np.linalg.inv(a)\n",
    "print(\"Inverse \\n\",Inverse)"
   ]
  },
  {
   "cell_type": "code",
   "execution_count": 11,
   "metadata": {},
   "outputs": [
    {
     "name": "stdout",
     "output_type": "stream",
     "text": [
      "Equation \n",
      " [ 1.08333333 -0.04166667]\n"
     ]
    }
   ],
   "source": [
    "a= np.array([[1,2],[4,56]])\n",
    "b = np.array([1,2])\n",
    "Equation = np.linalg.solve(a,b)\n",
    "print(\"Equation \\n\",Equation)"
   ]
  },
  {
   "cell_type": "code",
   "execution_count": 3,
   "metadata": {},
   "outputs": [
    {
     "name": "stdout",
     "output_type": "stream",
     "text": [
      "GCD of 20 and 30 is 2\n"
     ]
    }
   ],
   "source": [
    "def gcd(a,b,c):\n",
    "    while b!=0:\n",
    "        a, b = b, a % b\n",
    "    while c!=0:\n",
    "        a, c = c, a % c\n",
    "    return a\n",
    "\n",
    "print(\"GCD of 20 and 30 is\", gcd(20, 30, 56))"
   ]
  },
  {
   "cell_type": "code",
   "execution_count": 18,
   "metadata": {},
   "outputs": [
    {
     "name": "stdout",
     "output_type": "stream",
     "text": [
      "The GCD is  and LCM is 36\n",
      "The GCD is 6 and LCM is 36\n"
     ]
    }
   ],
   "source": [
    "# LCM \n",
    "def gcd(a,b):\n",
    "    while b!=0:\n",
    "        a,b = b,a%b\n",
    "    return a\n",
    "def lcm(a,b):\n",
    "    return (a*b)//gcd(a,b)\n",
    "\n",
    "a=12\n",
    "b=18\n",
    "print(f\"The GCD is  and LCM is {lcm(a,b)}\")\n",
    "print(f\"The GCD is {gcd(a,b)} and LCM is {lcm(a,b)}\")"
   ]
  }
 ],
 "metadata": {
  "kernelspec": {
   "display_name": "Python 3",
   "language": "python",
   "name": "python3"
  },
  "language_info": {
   "codemirror_mode": {
    "name": "ipython",
    "version": 3
   },
   "file_extension": ".py",
   "mimetype": "text/x-python",
   "name": "python",
   "nbconvert_exporter": "python",
   "pygments_lexer": "ipython3",
   "version": "3.13.2"
  }
 },
 "nbformat": 4,
 "nbformat_minor": 2
}
