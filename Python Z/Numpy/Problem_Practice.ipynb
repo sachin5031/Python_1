{
 "cells": [
  {
   "cell_type": "code",
   "execution_count": 34,
   "id": "1e0d757e",
   "metadata": {},
   "outputs": [
    {
     "name": "stdout",
     "output_type": "stream",
     "text": [
      "1\n"
     ]
    }
   ],
   "source": [
    "#Missing Number Finder\n",
    "def no(num):\n",
    "    n = len(num)+1\n",
    "    a = set(range(1, n+1))\n",
    "    b = set(num)\n",
    "    c = a - b\n",
    "    return c.pop() if c else None\n",
    "num=[4, 2, 3, 5]\n",
    "print(no(num))  # Output: 4"
   ]
  },
  {
   "cell_type": "code",
   "execution_count": 33,
   "id": "56b66ac8",
   "metadata": {},
   "outputs": [
    {
     "name": "stdout",
     "output_type": "stream",
     "text": [
      "Min: 2\n",
      "Max: 56\n"
     ]
    }
   ],
   "source": [
    "n = [2,5,15,21,56,27]  # This line seems to be a leftover and not used in the function\n",
    "min = n[0]\n",
    "max = n[0]\n",
    "for i in n:\n",
    "    if i < min:\n",
    "        min = i\n",
    "    elif i > max:\n",
    "        max = i\n",
    "\n",
    "print(\"Min:\", min)  # Output: Min: 2\n",
    "print(\"Max:\", max)  # Output: Max: 56"
   ]
  },
  {
   "cell_type": "code",
   "execution_count": 26,
   "id": "13ec5c5d",
   "metadata": {},
   "outputs": [
    {
     "name": "stdout",
     "output_type": "stream",
     "text": [
      "28 is a perfect number\n"
     ]
    }
   ],
   "source": [
    "n = int(input(\"Enter a number: \"))\n",
    "p =0\n",
    "for i in range(1, n):\n",
    "    if n % i == 0:\n",
    "        p += i\n",
    "if p == n:\n",
    "    print(n, \"is a perfect number\") \n",
    "else:\n",
    "    print(n, \"is not a perfect number\")    "
   ]
  },
  {
   "cell_type": "code",
   "execution_count": 39,
   "id": "65cfb055",
   "metadata": {},
   "outputs": [
    {
     "name": "stdout",
     "output_type": "stream",
     "text": [
      "largest word: elephant\n"
     ]
    }
   ],
   "source": [
    "text = \"cat bat elephant dog\"\n",
    "a = text.split()\n",
    "b = a[0]\n",
    "for i in a:\n",
    "    if len(i) > len(b):\n",
    "        b = i\n",
    "\n",
    "print(\"largest word:\", b)  # Output: largest word: elephant\n"
   ]
  },
  {
   "cell_type": "code",
   "execution_count": 43,
   "id": "be035fb2",
   "metadata": {},
   "outputs": [
    {
     "name": "stdout",
     "output_type": "stream",
     "text": [
      "Reversed string: olleh\n",
      "The string is not a palindrome\n"
     ]
    }
   ],
   "source": [
    "# Reversing a string without using built-in functions\n",
    "def reverse(s):\n",
    "    rev=\"\"\n",
    "    for i in s:\n",
    "        rev = i + rev   \n",
    "    return rev  \n",
    "s = input(\"Enter a string: \")\n",
    "print(\"Reversed string:\", reverse(s)) \n",
    "if s == reverse(s):\n",
    "    print(\"The string is a palindrome\") \n",
    "else:\n",
    "    print(\"The string is not a palindrome\") "
   ]
  },
  {
   "cell_type": "code",
   "execution_count": null,
   "id": "71cb8c22",
   "metadata": {},
   "outputs": [
    {
     "name": "stdout",
     "output_type": "stream",
     "text": [
      "Reversed number: 6\n",
      "Reversed number: 63\n",
      "Reversed number: 635\n"
     ]
    }
   ],
   "source": [
    "n = int(input(\"Enter a number: \"))\n",
    "p = 0   \n",
    "while n > 0: \n",
    "    r = n % 10\n",
    "    p = p * 10 + r\n",
    "    n = n // 10\n",
    "print(\"Reversed number:\", p)  # Output: Reversed number: 54321"
   ]
  },
  {
   "cell_type": "code",
   "execution_count": null,
   "id": "4a0cbc99",
   "metadata": {},
   "outputs": [
    {
     "name": "stdout",
     "output_type": "stream",
     "text": [
      "Factorial of 5 is 120\n"
     ]
    }
   ],
   "source": [
    "def factorial(n):\n",
    "    if n == 0 or n == 1:\n",
    "        return 1\n",
    "    else:\n",
    "        return n * factorial(n - 1)\n",
    "    \n",
    "n = int(input(\"Enter a number: \"))\n",
    "print(\"Factorial of\", n, \"is\", factorial(n))  # Output: Factorial of 5 is 120"
   ]
  },
  {
   "cell_type": "code",
   "execution_count": 3,
   "id": "8ccaad0f",
   "metadata": {},
   "outputs": [
    {
     "name": "stdout",
     "output_type": "stream",
     "text": [
      "Matrix: [[0, 1, 2, 3], [1, 2, 3, 4], [2, 3, 4, 5], [3, 4, 5, 6]]\n",
      "[[0 1 2 3]\n",
      " [1 2 3 4]\n",
      " [2 3 4 5]\n",
      " [3 4 5 6]]\n"
     ]
    }
   ],
   "source": [
    "import numpy as np\n",
    "matrix = []\n",
    "for i in range(4):\n",
    "    matrix.append([])\n",
    "    for j in range(4):\n",
    "        val = i+j\n",
    "        matrix[i].append(val)\n",
    "\n",
    "print(\"Matrix:\",matrix)\n",
    "print(np.array(matrix))"
   ]
  },
  {
   "cell_type": "code",
   "execution_count": 36,
   "id": "66e1aca6",
   "metadata": {},
   "outputs": [
    {
     "name": "stdout",
     "output_type": "stream",
     "text": [
      "[[0, 1, 2, 3], [0, 1, 2, 3], [0, 1, 2, 3], [0, 1, 2, 3]]\n"
     ]
    }
   ],
   "source": [
    "matrix = []\n",
    "for i in range(4):\n",
    "    row = []\n",
    "    for j in range(4):\n",
    "        # val = i + j\n",
    "        row.append(j)\n",
    "    matrix.append(row)\n",
    "\n",
    "print(matrix)"
   ]
  },
  {
   "cell_type": "code",
   "execution_count": 35,
   "id": "2a026904",
   "metadata": {},
   "outputs": [
    {
     "name": "stdout",
     "output_type": "stream",
     "text": [
      "The GCD is 6 and LCM is 36\n"
     ]
    }
   ],
   "source": [
    "# LCM and GCD calculation\n",
    "def gcd(a,b):\n",
    "    while b!=0:\n",
    "        a,b = b,a%b\n",
    "    return a\n",
    "def lcm(a,b):\n",
    "    return (a*b)//gcd(a,b)\n",
    "\n",
    "a=12\n",
    "b=18\n",
    "print(f\"The GCD is {gcd(a,b)} and LCM is {lcm(a,b)}\")"
   ]
  },
  {
   "cell_type": "code",
   "execution_count": 5,
   "id": "847ae1fa",
   "metadata": {},
   "outputs": [
    {
     "name": "stdout",
     "output_type": "stream",
     "text": [
      "Number of digits: 3\n"
     ]
    }
   ],
   "source": [
    "a = int(input(\"Enter a number: \"))\n",
    "count = 0\n",
    "while a != 0:\n",
    "    a = a // 10\n",
    "    count += 1\n",
    "print(\"Number of digits:\", count)  # Output: Number of digits: 3"
   ]
  },
  {
   "cell_type": "code",
   "execution_count": 23,
   "id": "80fdc492",
   "metadata": {},
   "outputs": [
    {
     "name": "stdout",
     "output_type": "stream",
     "text": [
      "*\n",
      "**\n",
      "***\n",
      "****\n",
      "*****\n"
     ]
    }
   ],
   "source": [
    "a=0\n",
    "while a<5:\n",
    "    j=0\n",
    "    while j<=a:\n",
    "        print(\"*\", end=\"\")\n",
    "        j += 1\n",
    "    print()  # Move to the next line after printing stars\n",
    "    a +=1"
   ]
  },
  {
   "cell_type": "code",
   "execution_count": 32,
   "id": "52ffd6d0",
   "metadata": {},
   "outputs": [
    {
     "name": "stdout",
     "output_type": "stream",
     "text": [
      "*\n",
      "**\n",
      "***\n",
      "****\n",
      "*****\n"
     ]
    }
   ],
   "source": [
    "for i in range(5):\n",
    "    for j in range(i+1):\n",
    "        print(\"*\", end=\"\")\n",
    "    print()  # Move to the next line after printing stars"
   ]
  }
 ],
 "metadata": {
  "kernelspec": {
   "display_name": "Python 3",
   "language": "python",
   "name": "python3"
  },
  "language_info": {
   "codemirror_mode": {
    "name": "ipython",
    "version": 3
   },
   "file_extension": ".py",
   "mimetype": "text/x-python",
   "name": "python",
   "nbconvert_exporter": "python",
   "pygments_lexer": "ipython3",
   "version": "3.13.2"
  }
 },
 "nbformat": 4,
 "nbformat_minor": 5
}
