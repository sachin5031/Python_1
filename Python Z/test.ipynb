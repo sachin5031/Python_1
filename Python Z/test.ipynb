{
 "cells": [
  {
   "cell_type": "code",
   "execution_count": 2,
   "metadata": {},
   "outputs": [
    {
     "name": "stdout",
     "output_type": "stream",
     "text": [
      "Smallest Value: 7 at Index: 4\n",
      "Largest Value: 151 at Index: 3\n"
     ]
    }
   ],
   "source": [
    "def find_min_max(n):\n",
    "    # Initialize minimum and maximum with the first element\n",
    "    minimum = n[0]\n",
    "    maximum = n[0]\n",
    "    min_index = 0\n",
    "    max_index = 0\n",
    "\n",
    "    # Loop through the list using index\n",
    "    for i in range(1, len(n)):\n",
    "        if n[i] < minimum:\n",
    "            minimum = n[i]\n",
    "            min_index = i  # Store the index of the minimum value\n",
    "        if n[i] > maximum:\n",
    "            maximum = n[i]\n",
    "            max_index = i  # Store the index of the maximum value\n",
    "\n",
    "    return minimum, min_index, maximum, max_index\n",
    "\n",
    "# Example list\n",
    "n = [100, 11, 125, 151, 7, 35]\n",
    "\n",
    "# Function call\n",
    "min_val, min_pos, max_val, max_pos = find_min_max(n)\n",
    "\n",
    "# Print results\n",
    "print(f\"Smallest Value: {min_val} at Index: {min_pos}\")\n",
    "print(f\"Largest Value: {max_val} at Index: {max_pos}\")\n"
   ]
  }
 ],
 "metadata": {
  "kernelspec": {
   "display_name": "Python 3",
   "language": "python",
   "name": "python3"
  },
  "language_info": {
   "codemirror_mode": {
    "name": "ipython",
    "version": 3
   },
   "file_extension": ".py",
   "mimetype": "text/x-python",
   "name": "python",
   "nbconvert_exporter": "python",
   "pygments_lexer": "ipython3",
   "version": "3.12.6"
  }
 },
 "nbformat": 4,
 "nbformat_minor": 2
}
